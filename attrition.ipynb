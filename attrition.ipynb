{
  "cells": [
    {
      "cell_type": "markdown",
      "metadata": {
        "id": "alIIEHibGc3M"
      },
      "source": [
        "## Part 1: Preprocessing"
      ]
    },
    {
      "cell_type": "code",
      "execution_count": 26,
      "metadata": {
        "colab": {
          "base_uri": "https://localhost:8080/",
          "height": 325
        },
        "id": "6eDUJ4NtGc3P",
        "outputId": "2480098c-135c-4cbf-9552-018494ee8ff5"
      },
      "outputs": [
        {
          "data": {
            "text/html": [
              "<div>\n",
              "<style scoped>\n",
              "    .dataframe tbody tr th:only-of-type {\n",
              "        vertical-align: middle;\n",
              "    }\n",
              "\n",
              "    .dataframe tbody tr th {\n",
              "        vertical-align: top;\n",
              "    }\n",
              "\n",
              "    .dataframe thead th {\n",
              "        text-align: right;\n",
              "    }\n",
              "</style>\n",
              "<table border=\"1\" class=\"dataframe\">\n",
              "  <thead>\n",
              "    <tr style=\"text-align: right;\">\n",
              "      <th></th>\n",
              "      <th>Age</th>\n",
              "      <th>Attrition</th>\n",
              "      <th>BusinessTravel</th>\n",
              "      <th>Department</th>\n",
              "      <th>DistanceFromHome</th>\n",
              "      <th>Education</th>\n",
              "      <th>EducationField</th>\n",
              "      <th>EnvironmentSatisfaction</th>\n",
              "      <th>HourlyRate</th>\n",
              "      <th>JobInvolvement</th>\n",
              "      <th>...</th>\n",
              "      <th>PerformanceRating</th>\n",
              "      <th>RelationshipSatisfaction</th>\n",
              "      <th>StockOptionLevel</th>\n",
              "      <th>TotalWorkingYears</th>\n",
              "      <th>TrainingTimesLastYear</th>\n",
              "      <th>WorkLifeBalance</th>\n",
              "      <th>YearsAtCompany</th>\n",
              "      <th>YearsInCurrentRole</th>\n",
              "      <th>YearsSinceLastPromotion</th>\n",
              "      <th>YearsWithCurrManager</th>\n",
              "    </tr>\n",
              "  </thead>\n",
              "  <tbody>\n",
              "    <tr>\n",
              "      <th>0</th>\n",
              "      <td>41</td>\n",
              "      <td>Yes</td>\n",
              "      <td>Travel_Rarely</td>\n",
              "      <td>Sales</td>\n",
              "      <td>1</td>\n",
              "      <td>2</td>\n",
              "      <td>Life Sciences</td>\n",
              "      <td>2</td>\n",
              "      <td>94</td>\n",
              "      <td>3</td>\n",
              "      <td>...</td>\n",
              "      <td>3</td>\n",
              "      <td>1</td>\n",
              "      <td>0</td>\n",
              "      <td>8</td>\n",
              "      <td>0</td>\n",
              "      <td>1</td>\n",
              "      <td>6</td>\n",
              "      <td>4</td>\n",
              "      <td>0</td>\n",
              "      <td>5</td>\n",
              "    </tr>\n",
              "    <tr>\n",
              "      <th>1</th>\n",
              "      <td>49</td>\n",
              "      <td>No</td>\n",
              "      <td>Travel_Frequently</td>\n",
              "      <td>Research &amp; Development</td>\n",
              "      <td>8</td>\n",
              "      <td>1</td>\n",
              "      <td>Life Sciences</td>\n",
              "      <td>3</td>\n",
              "      <td>61</td>\n",
              "      <td>2</td>\n",
              "      <td>...</td>\n",
              "      <td>4</td>\n",
              "      <td>4</td>\n",
              "      <td>1</td>\n",
              "      <td>10</td>\n",
              "      <td>3</td>\n",
              "      <td>3</td>\n",
              "      <td>10</td>\n",
              "      <td>7</td>\n",
              "      <td>1</td>\n",
              "      <td>7</td>\n",
              "    </tr>\n",
              "    <tr>\n",
              "      <th>2</th>\n",
              "      <td>37</td>\n",
              "      <td>Yes</td>\n",
              "      <td>Travel_Rarely</td>\n",
              "      <td>Research &amp; Development</td>\n",
              "      <td>2</td>\n",
              "      <td>2</td>\n",
              "      <td>Other</td>\n",
              "      <td>4</td>\n",
              "      <td>92</td>\n",
              "      <td>2</td>\n",
              "      <td>...</td>\n",
              "      <td>3</td>\n",
              "      <td>2</td>\n",
              "      <td>0</td>\n",
              "      <td>7</td>\n",
              "      <td>3</td>\n",
              "      <td>3</td>\n",
              "      <td>0</td>\n",
              "      <td>0</td>\n",
              "      <td>0</td>\n",
              "      <td>0</td>\n",
              "    </tr>\n",
              "    <tr>\n",
              "      <th>3</th>\n",
              "      <td>33</td>\n",
              "      <td>No</td>\n",
              "      <td>Travel_Frequently</td>\n",
              "      <td>Research &amp; Development</td>\n",
              "      <td>3</td>\n",
              "      <td>4</td>\n",
              "      <td>Life Sciences</td>\n",
              "      <td>4</td>\n",
              "      <td>56</td>\n",
              "      <td>3</td>\n",
              "      <td>...</td>\n",
              "      <td>3</td>\n",
              "      <td>3</td>\n",
              "      <td>0</td>\n",
              "      <td>8</td>\n",
              "      <td>3</td>\n",
              "      <td>3</td>\n",
              "      <td>8</td>\n",
              "      <td>7</td>\n",
              "      <td>3</td>\n",
              "      <td>0</td>\n",
              "    </tr>\n",
              "    <tr>\n",
              "      <th>4</th>\n",
              "      <td>27</td>\n",
              "      <td>No</td>\n",
              "      <td>Travel_Rarely</td>\n",
              "      <td>Research &amp; Development</td>\n",
              "      <td>2</td>\n",
              "      <td>1</td>\n",
              "      <td>Medical</td>\n",
              "      <td>1</td>\n",
              "      <td>40</td>\n",
              "      <td>3</td>\n",
              "      <td>...</td>\n",
              "      <td>3</td>\n",
              "      <td>4</td>\n",
              "      <td>1</td>\n",
              "      <td>6</td>\n",
              "      <td>3</td>\n",
              "      <td>3</td>\n",
              "      <td>2</td>\n",
              "      <td>2</td>\n",
              "      <td>2</td>\n",
              "      <td>2</td>\n",
              "    </tr>\n",
              "  </tbody>\n",
              "</table>\n",
              "<p>5 rows × 27 columns</p>\n",
              "</div>"
            ],
            "text/plain": [
              "   Age Attrition     BusinessTravel              Department  DistanceFromHome  \\\n",
              "0   41       Yes      Travel_Rarely                   Sales                 1   \n",
              "1   49        No  Travel_Frequently  Research & Development                 8   \n",
              "2   37       Yes      Travel_Rarely  Research & Development                 2   \n",
              "3   33        No  Travel_Frequently  Research & Development                 3   \n",
              "4   27        No      Travel_Rarely  Research & Development                 2   \n",
              "\n",
              "   Education EducationField  EnvironmentSatisfaction  HourlyRate  \\\n",
              "0          2  Life Sciences                        2          94   \n",
              "1          1  Life Sciences                        3          61   \n",
              "2          2          Other                        4          92   \n",
              "3          4  Life Sciences                        4          56   \n",
              "4          1        Medical                        1          40   \n",
              "\n",
              "   JobInvolvement  ...  PerformanceRating RelationshipSatisfaction  \\\n",
              "0               3  ...                  3                        1   \n",
              "1               2  ...                  4                        4   \n",
              "2               2  ...                  3                        2   \n",
              "3               3  ...                  3                        3   \n",
              "4               3  ...                  3                        4   \n",
              "\n",
              "   StockOptionLevel TotalWorkingYears  TrainingTimesLastYear WorkLifeBalance  \\\n",
              "0                 0                 8                      0               1   \n",
              "1                 1                10                      3               3   \n",
              "2                 0                 7                      3               3   \n",
              "3                 0                 8                      3               3   \n",
              "4                 1                 6                      3               3   \n",
              "\n",
              "   YearsAtCompany  YearsInCurrentRole  YearsSinceLastPromotion  \\\n",
              "0               6                   4                        0   \n",
              "1              10                   7                        1   \n",
              "2               0                   0                        0   \n",
              "3               8                   7                        3   \n",
              "4               2                   2                        2   \n",
              "\n",
              "   YearsWithCurrManager  \n",
              "0                     5  \n",
              "1                     7  \n",
              "2                     0  \n",
              "3                     0  \n",
              "4                     2  \n",
              "\n",
              "[5 rows x 27 columns]"
            ]
          },
          "execution_count": 26,
          "metadata": {},
          "output_type": "execute_result"
        }
      ],
      "source": [
        "# Import our dependencies\n",
        "from sklearn.model_selection import train_test_split\n",
        "from sklearn.preprocessing import StandardScaler\n",
        "import pandas as pd\n",
        "import numpy as np\n",
        "import matplotlib.pyplot as plt\n",
        "from tensorflow.keras.models import Model\n",
        "from tensorflow.keras import layers\n",
        "\n",
        "#  Import and read the attrition data\n",
        "attrition_df = pd.read_csv('https://static.bc-edx.com/ai/ail-v-1-0/m19/lms/datasets/attrition.csv')\n",
        "attrition_df.head()"
      ]
    },
    {
      "cell_type": "code",
      "execution_count": 27,
      "metadata": {},
      "outputs": [
        {
          "data": {
            "text/plain": [
              "(1470, 27)"
            ]
          },
          "execution_count": 27,
          "metadata": {},
          "output_type": "execute_result"
        }
      ],
      "source": [
        "# How many rows?\n",
        "attrition_df.shape"
      ]
    },
    {
      "cell_type": "code",
      "execution_count": 28,
      "metadata": {
        "colab": {
          "base_uri": "https://localhost:8080/"
        },
        "id": "g22aQSY4Gc3Q",
        "outputId": "1f5c13c1-b981-4e40-a7ed-dd3fe6f1b81e"
      },
      "outputs": [
        {
          "data": {
            "text/plain": [
              "Age                         43\n",
              "Attrition                    2\n",
              "BusinessTravel               3\n",
              "Department                   3\n",
              "DistanceFromHome            29\n",
              "Education                    5\n",
              "EducationField               6\n",
              "EnvironmentSatisfaction      4\n",
              "HourlyRate                  71\n",
              "JobInvolvement               4\n",
              "JobLevel                     5\n",
              "JobRole                      9\n",
              "JobSatisfaction              4\n",
              "MaritalStatus                3\n",
              "NumCompaniesWorked          10\n",
              "OverTime                     2\n",
              "PercentSalaryHike           15\n",
              "PerformanceRating            2\n",
              "RelationshipSatisfaction     4\n",
              "StockOptionLevel             4\n",
              "TotalWorkingYears           40\n",
              "TrainingTimesLastYear        7\n",
              "WorkLifeBalance              4\n",
              "YearsAtCompany              37\n",
              "YearsInCurrentRole          19\n",
              "YearsSinceLastPromotion     16\n",
              "YearsWithCurrManager        18\n",
              "dtype: int64"
            ]
          },
          "execution_count": 28,
          "metadata": {},
          "output_type": "execute_result"
        }
      ],
      "source": [
        "# Determine the number of unique values in each column.\n",
        "attrition_df.nunique()"
      ]
    },
    {
      "cell_type": "code",
      "execution_count": 29,
      "metadata": {},
      "outputs": [
        {
          "name": "stdout",
          "output_type": "stream",
          "text": [
            "Are there any null values?   False\n"
          ]
        }
      ],
      "source": [
        "# Are there any null values?\n",
        "has_nulls = attrition_df.isnull().values.any()\n",
        "print(f\"Are there any null values?   {has_nulls}\")\n"
      ]
    },
    {
      "cell_type": "code",
      "execution_count": 30,
      "metadata": {},
      "outputs": [
        {
          "data": {
            "text/plain": [
              "Age                          int64\n",
              "Attrition                   object\n",
              "BusinessTravel              object\n",
              "Department                  object\n",
              "DistanceFromHome             int64\n",
              "Education                    int64\n",
              "EducationField              object\n",
              "EnvironmentSatisfaction      int64\n",
              "HourlyRate                   int64\n",
              "JobInvolvement               int64\n",
              "JobLevel                     int64\n",
              "JobRole                     object\n",
              "JobSatisfaction              int64\n",
              "MaritalStatus               object\n",
              "NumCompaniesWorked           int64\n",
              "OverTime                    object\n",
              "PercentSalaryHike            int64\n",
              "PerformanceRating            int64\n",
              "RelationshipSatisfaction     int64\n",
              "StockOptionLevel             int64\n",
              "TotalWorkingYears            int64\n",
              "TrainingTimesLastYear        int64\n",
              "WorkLifeBalance              int64\n",
              "YearsAtCompany               int64\n",
              "YearsInCurrentRole           int64\n",
              "YearsSinceLastPromotion      int64\n",
              "YearsWithCurrManager         int64\n",
              "dtype: object"
            ]
          },
          "execution_count": 30,
          "metadata": {},
          "output_type": "execute_result"
        }
      ],
      "source": [
        "# Let's check the data types\n",
        "attrition_df.dtypes"
      ]
    },
    {
      "cell_type": "code",
      "execution_count": 31,
      "metadata": {},
      "outputs": [
        {
          "name": "stdout",
          "output_type": "stream",
          "text": [
            "Column: NumCompaniesWorked\n",
            "Outlier Min / Max: 9 / 9\n",
            "------------------------------------\n",
            "Column: PerformanceRating\n",
            "Outlier Min / Max: 4 / 4\n",
            "------------------------------------\n",
            "Column: StockOptionLevel\n",
            "Outlier Min / Max: 3 / 3\n",
            "------------------------------------\n",
            "Column: TotalWorkingYears\n",
            "Outlier Min / Max: 29 / 40\n",
            "------------------------------------\n",
            "Column: TrainingTimesLastYear\n",
            "Outlier Min / Max: 0 / 6\n",
            "------------------------------------\n",
            "Column: YearsAtCompany\n",
            "Outlier Min / Max: 19 / 40\n",
            "------------------------------------\n",
            "Column: YearsInCurrentRole\n",
            "Outlier Min / Max: 15 / 18\n",
            "------------------------------------\n",
            "Column: YearsSinceLastPromotion\n",
            "Outlier Min / Max: 8 / 15\n",
            "------------------------------------\n",
            "Column: YearsWithCurrManager\n",
            "Outlier Min / Max: 15 / 17\n",
            "------------------------------------\n"
          ]
        }
      ],
      "source": [
        "# I also want to check for outliers, let's do that too.\n",
        "numeric_columns = attrition_df.select_dtypes(include=['number']).columns\n",
        "\n",
        "for column in numeric_columns:\n",
        "    Q1 = attrition_df[column].quantile(0.25)\n",
        "    Q3 = attrition_df[column].quantile(0.75)\n",
        "    IQR = Q3 - Q1\n",
        "    lower_bound = Q1 - 1.5 * IQR\n",
        "    upper_bound = Q3 + 1.5 * IQR\n",
        "    \n",
        "    outliers = attrition_df[(attrition_df[column] < lower_bound) | (attrition_df[column] > upper_bound)][column]\n",
        "    \n",
        "    if not outliers.empty:\n",
        "        print(f\"Column: {column}\")\n",
        "        print(f\"Outlier Min / Max: {outliers.min()} / {outliers.max()}\")\n",
        "        print(\"------------------------------------\")\n"
      ]
    },
    {
      "cell_type": "code",
      "execution_count": 32,
      "metadata": {},
      "outputs": [
        {
          "data": {
            "image/png": "[encoded data removed]",
            "text/plain": [
              "<Figure size 1200x1000 with 20 Axes>"
            ]
          },
          "metadata": {},
          "output_type": "display_data"
        }
      ],
      "source": [
        "# I really want to visualize the numeric columns\n",
        "attrition_df[numeric_columns].hist(figsize=(12, 10), bins=20, edgecolor='black')\n",
        "\n",
        "# Let's be picky with our layout\n",
        "plt.tight_layout()\n",
        "\n",
        "# Let's customize the layout\n",
        "plt.rcParams.update({\n",
        "    'font.size': 7,\n",
        "    'axes.titlesize': 7,\n",
        "    'axes.labelsize': 7,\n",
        "    'xtick.labelsize': 7,\n",
        "    'ytick.labelsize': 7\n",
        "})\n",
        "\n",
        "plt.show()"
      ]
    },
    {
      "cell_type": "code",
      "execution_count": 33,
      "metadata": {
        "id": "50vMgBEnJbfM"
      },
      "outputs": [
        {
          "data": {
            "text/html": [
              "<div>\n",
              "<style scoped>\n",
              "    .dataframe tbody tr th:only-of-type {\n",
              "        vertical-align: middle;\n",
              "    }\n",
              "\n",
              "    .dataframe tbody tr th {\n",
              "        vertical-align: top;\n",
              "    }\n",
              "\n",
              "    .dataframe thead th {\n",
              "        text-align: right;\n",
              "    }\n",
              "</style>\n",
              "<table border=\"1\" class=\"dataframe\">\n",
              "  <thead>\n",
              "    <tr style=\"text-align: right;\">\n",
              "      <th></th>\n",
              "      <th>Attrition</th>\n",
              "      <th>Department</th>\n",
              "    </tr>\n",
              "  </thead>\n",
              "  <tbody>\n",
              "    <tr>\n",
              "      <th>0</th>\n",
              "      <td>Yes</td>\n",
              "      <td>Sales</td>\n",
              "    </tr>\n",
              "    <tr>\n",
              "      <th>1</th>\n",
              "      <td>No</td>\n",
              "      <td>Research &amp; Development</td>\n",
              "    </tr>\n",
              "    <tr>\n",
              "      <th>2</th>\n",
              "      <td>Yes</td>\n",
              "      <td>Research &amp; Development</td>\n",
              "    </tr>\n",
              "    <tr>\n",
              "      <th>3</th>\n",
              "      <td>No</td>\n",
              "      <td>Research &amp; Development</td>\n",
              "    </tr>\n",
              "    <tr>\n",
              "      <th>4</th>\n",
              "      <td>No</td>\n",
              "      <td>Research &amp; Development</td>\n",
              "    </tr>\n",
              "  </tbody>\n",
              "</table>\n",
              "</div>"
            ],
            "text/plain": [
              "  Attrition              Department\n",
              "0       Yes                   Sales\n",
              "1        No  Research & Development\n",
              "2       Yes  Research & Development\n",
              "3        No  Research & Development\n",
              "4        No  Research & Development"
            ]
          },
          "execution_count": 33,
          "metadata": {},
          "output_type": "execute_result"
        }
      ],
      "source": [
        "# Create y_df with the Attrition and Department columns\n",
        "y_df = attrition_df[['Attrition','Department']]\n",
        "y_df.head()"
      ]
    },
    {
      "cell_type": "code",
      "execution_count": 34,
      "metadata": {},
      "outputs": [
        {
          "data": {
            "text/plain": [
              "array(['Sales', 'Research & Development', 'Human Resources'], dtype=object)"
            ]
          },
          "execution_count": 34,
          "metadata": {},
          "output_type": "execute_result"
        }
      ],
      "source": [
        "# I want to look at the names of the Unique Departments\n",
        "unique_departments = y_df['Department'].unique()\n",
        "unique_departments\n"
      ]
    },
    {
      "cell_type": "code",
      "execution_count": 35,
      "metadata": {
        "colab": {
          "base_uri": "https://localhost:8080/"
        },
        "id": "Virka0zLGc3R",
        "outputId": "dd5aee3a-9458-4ba6-e857-1b234de40915"
      },
      "outputs": [
        {
          "data": {
            "text/html": [
              "<div>\n",
              "<style scoped>\n",
              "    .dataframe tbody tr th:only-of-type {\n",
              "        vertical-align: middle;\n",
              "    }\n",
              "\n",
              "    .dataframe tbody tr th {\n",
              "        vertical-align: top;\n",
              "    }\n",
              "\n",
              "    .dataframe thead th {\n",
              "        text-align: right;\n",
              "    }\n",
              "</style>\n",
              "<table border=\"1\" class=\"dataframe\">\n",
              "  <thead>\n",
              "    <tr style=\"text-align: right;\">\n",
              "      <th></th>\n",
              "      <th>Education</th>\n",
              "      <th>Age</th>\n",
              "      <th>DistanceFromHome</th>\n",
              "      <th>JobSatisfaction</th>\n",
              "      <th>OverTime</th>\n",
              "      <th>StockOptionLevel</th>\n",
              "      <th>WorkLifeBalance</th>\n",
              "      <th>YearsAtCompany</th>\n",
              "      <th>YearsSinceLastPromotion</th>\n",
              "      <th>NumCompaniesWorked</th>\n",
              "    </tr>\n",
              "  </thead>\n",
              "  <tbody>\n",
              "    <tr>\n",
              "      <th>0</th>\n",
              "      <td>2</td>\n",
              "      <td>41</td>\n",
              "      <td>1</td>\n",
              "      <td>4</td>\n",
              "      <td>Yes</td>\n",
              "      <td>0</td>\n",
              "      <td>1</td>\n",
              "      <td>6</td>\n",
              "      <td>0</td>\n",
              "      <td>8</td>\n",
              "    </tr>\n",
              "    <tr>\n",
              "      <th>1</th>\n",
              "      <td>1</td>\n",
              "      <td>49</td>\n",
              "      <td>8</td>\n",
              "      <td>2</td>\n",
              "      <td>No</td>\n",
              "      <td>1</td>\n",
              "      <td>3</td>\n",
              "      <td>10</td>\n",
              "      <td>1</td>\n",
              "      <td>1</td>\n",
              "    </tr>\n",
              "    <tr>\n",
              "      <th>2</th>\n",
              "      <td>2</td>\n",
              "      <td>37</td>\n",
              "      <td>2</td>\n",
              "      <td>3</td>\n",
              "      <td>Yes</td>\n",
              "      <td>0</td>\n",
              "      <td>3</td>\n",
              "      <td>0</td>\n",
              "      <td>0</td>\n",
              "      <td>6</td>\n",
              "    </tr>\n",
              "    <tr>\n",
              "      <th>3</th>\n",
              "      <td>4</td>\n",
              "      <td>33</td>\n",
              "      <td>3</td>\n",
              "      <td>3</td>\n",
              "      <td>Yes</td>\n",
              "      <td>0</td>\n",
              "      <td>3</td>\n",
              "      <td>8</td>\n",
              "      <td>3</td>\n",
              "      <td>1</td>\n",
              "    </tr>\n",
              "    <tr>\n",
              "      <th>4</th>\n",
              "      <td>1</td>\n",
              "      <td>27</td>\n",
              "      <td>2</td>\n",
              "      <td>2</td>\n",
              "      <td>No</td>\n",
              "      <td>1</td>\n",
              "      <td>3</td>\n",
              "      <td>2</td>\n",
              "      <td>2</td>\n",
              "      <td>9</td>\n",
              "    </tr>\n",
              "  </tbody>\n",
              "</table>\n",
              "</div>"
            ],
            "text/plain": [
              "   Education  Age  DistanceFromHome  JobSatisfaction OverTime  \\\n",
              "0          2   41                 1                4      Yes   \n",
              "1          1   49                 8                2       No   \n",
              "2          2   37                 2                3      Yes   \n",
              "3          4   33                 3                3      Yes   \n",
              "4          1   27                 2                2       No   \n",
              "\n",
              "   StockOptionLevel  WorkLifeBalance  YearsAtCompany  YearsSinceLastPromotion  \\\n",
              "0                 0                1               6                        0   \n",
              "1                 1                3              10                        1   \n",
              "2                 0                3               0                        0   \n",
              "3                 0                3               8                        3   \n",
              "4                 1                3               2                        2   \n",
              "\n",
              "   NumCompaniesWorked  \n",
              "0                   8  \n",
              "1                   1  \n",
              "2                   6  \n",
              "3                   1  \n",
              "4                   9  "
            ]
          },
          "execution_count": 35,
          "metadata": {},
          "output_type": "execute_result"
        }
      ],
      "source": [
        "# Create a list of at least 10 column names to use as X data\n",
        "\n",
        "# interesting_columns\n",
        "interesting_columns = ['Education', 'Age', 'DistanceFromHome', 'JobSatisfaction', 'OverTime', 'StockOptionLevel', 'WorkLifeBalance', 'YearsAtCompany', 'YearsSinceLastPromotion', 'NumCompaniesWorked']\n",
        "\n",
        "# Create X_df using your selected columns\n",
        "X_df = attrition_df[interesting_columns]\n",
        "X_df.head()\n"
      ]
    },
    {
      "cell_type": "code",
      "execution_count": 36,
      "metadata": {},
      "outputs": [
        {
          "data": {
            "text/plain": [
              "Education                   int64\n",
              "Age                         int64\n",
              "DistanceFromHome            int64\n",
              "JobSatisfaction             int64\n",
              "OverTime                   object\n",
              "StockOptionLevel            int64\n",
              "WorkLifeBalance             int64\n",
              "YearsAtCompany              int64\n",
              "YearsSinceLastPromotion     int64\n",
              "NumCompaniesWorked          int64\n",
              "dtype: object"
            ]
          },
          "execution_count": 36,
          "metadata": {},
          "output_type": "execute_result"
        }
      ],
      "source": [
        "# Show the data types for X_df\n",
        "X_df.dtypes"
      ]
    },
    {
      "cell_type": "code",
      "execution_count": 37,
      "metadata": {},
      "outputs": [
        {
          "data": {
            "text/html": [
              "<div>\n",
              "<style scoped>\n",
              "    .dataframe tbody tr th:only-of-type {\n",
              "        vertical-align: middle;\n",
              "    }\n",
              "\n",
              "    .dataframe tbody tr th {\n",
              "        vertical-align: top;\n",
              "    }\n",
              "\n",
              "    .dataframe thead th {\n",
              "        text-align: right;\n",
              "    }\n",
              "</style>\n",
              "<table border=\"1\" class=\"dataframe\">\n",
              "  <thead>\n",
              "    <tr style=\"text-align: right;\">\n",
              "      <th></th>\n",
              "      <th>Attrition</th>\n",
              "      <th>Department</th>\n",
              "    </tr>\n",
              "  </thead>\n",
              "  <tbody>\n",
              "    <tr>\n",
              "      <th>0</th>\n",
              "      <td>Yes</td>\n",
              "      <td>Sales</td>\n",
              "    </tr>\n",
              "    <tr>\n",
              "      <th>1</th>\n",
              "      <td>No</td>\n",
              "      <td>Research &amp; Development</td>\n",
              "    </tr>\n",
              "    <tr>\n",
              "      <th>2</th>\n",
              "      <td>Yes</td>\n",
              "      <td>Research &amp; Development</td>\n",
              "    </tr>\n",
              "    <tr>\n",
              "      <th>3</th>\n",
              "      <td>No</td>\n",
              "      <td>Research &amp; Development</td>\n",
              "    </tr>\n",
              "    <tr>\n",
              "      <th>4</th>\n",
              "      <td>No</td>\n",
              "      <td>Research &amp; Development</td>\n",
              "    </tr>\n",
              "    <tr>\n",
              "      <th>...</th>\n",
              "      <td>...</td>\n",
              "      <td>...</td>\n",
              "    </tr>\n",
              "    <tr>\n",
              "      <th>1465</th>\n",
              "      <td>No</td>\n",
              "      <td>Research &amp; Development</td>\n",
              "    </tr>\n",
              "    <tr>\n",
              "      <th>1466</th>\n",
              "      <td>No</td>\n",
              "      <td>Research &amp; Development</td>\n",
              "    </tr>\n",
              "    <tr>\n",
              "      <th>1467</th>\n",
              "      <td>No</td>\n",
              "      <td>Research &amp; Development</td>\n",
              "    </tr>\n",
              "    <tr>\n",
              "      <th>1468</th>\n",
              "      <td>No</td>\n",
              "      <td>Sales</td>\n",
              "    </tr>\n",
              "    <tr>\n",
              "      <th>1469</th>\n",
              "      <td>No</td>\n",
              "      <td>Research &amp; Development</td>\n",
              "    </tr>\n",
              "  </tbody>\n",
              "</table>\n",
              "<p>1470 rows × 2 columns</p>\n",
              "</div>"
            ],
            "text/plain": [
              "     Attrition              Department\n",
              "0          Yes                   Sales\n",
              "1           No  Research & Development\n",
              "2          Yes  Research & Development\n",
              "3           No  Research & Development\n",
              "4           No  Research & Development\n",
              "...        ...                     ...\n",
              "1465        No  Research & Development\n",
              "1466        No  Research & Development\n",
              "1467        No  Research & Development\n",
              "1468        No                   Sales\n",
              "1469        No  Research & Development\n",
              "\n",
              "[1470 rows x 2 columns]"
            ]
          },
          "execution_count": 37,
          "metadata": {},
          "output_type": "execute_result"
        }
      ],
      "source": [
        "y_df"
      ]
    },
    {
      "cell_type": "code",
      "execution_count": 38,
      "metadata": {
        "id": "KaJfdOGUMHMR"
      },
      "outputs": [],
      "source": [
        "# Split the data into training and testing sets\n",
        "# Let's define our variable for the Train Test Split function first\n",
        "\n",
        "from sklearn.model_selection import train_test_split\n",
        "\n",
        "X_train, X_test, y_train, y_test = train_test_split(X_df, y_df)"
      ]
    },
    {
      "cell_type": "code",
      "execution_count": 39,
      "metadata": {},
      "outputs": [
        {
          "data": {
            "text/html": [
              "<div>\n",
              "<style scoped>\n",
              "    .dataframe tbody tr th:only-of-type {\n",
              "        vertical-align: middle;\n",
              "    }\n",
              "\n",
              "    .dataframe tbody tr th {\n",
              "        vertical-align: top;\n",
              "    }\n",
              "\n",
              "    .dataframe thead th {\n",
              "        text-align: right;\n",
              "    }\n",
              "</style>\n",
              "<table border=\"1\" class=\"dataframe\">\n",
              "  <thead>\n",
              "    <tr style=\"text-align: right;\">\n",
              "      <th></th>\n",
              "      <th>Education</th>\n",
              "      <th>Age</th>\n",
              "      <th>DistanceFromHome</th>\n",
              "      <th>JobSatisfaction</th>\n",
              "      <th>OverTime</th>\n",
              "      <th>StockOptionLevel</th>\n",
              "      <th>WorkLifeBalance</th>\n",
              "      <th>YearsAtCompany</th>\n",
              "      <th>YearsSinceLastPromotion</th>\n",
              "      <th>NumCompaniesWorked</th>\n",
              "    </tr>\n",
              "  </thead>\n",
              "  <tbody>\n",
              "    <tr>\n",
              "      <th>1460</th>\n",
              "      <td>4</td>\n",
              "      <td>29</td>\n",
              "      <td>28</td>\n",
              "      <td>1</td>\n",
              "      <td>No</td>\n",
              "      <td>0</td>\n",
              "      <td>1</td>\n",
              "      <td>5</td>\n",
              "      <td>0</td>\n",
              "      <td>1</td>\n",
              "    </tr>\n",
              "    <tr>\n",
              "      <th>666</th>\n",
              "      <td>1</td>\n",
              "      <td>22</td>\n",
              "      <td>3</td>\n",
              "      <td>3</td>\n",
              "      <td>Yes</td>\n",
              "      <td>1</td>\n",
              "      <td>4</td>\n",
              "      <td>3</td>\n",
              "      <td>0</td>\n",
              "      <td>0</td>\n",
              "    </tr>\n",
              "    <tr>\n",
              "      <th>844</th>\n",
              "      <td>3</td>\n",
              "      <td>30</td>\n",
              "      <td>10</td>\n",
              "      <td>3</td>\n",
              "      <td>No</td>\n",
              "      <td>1</td>\n",
              "      <td>3</td>\n",
              "      <td>10</td>\n",
              "      <td>1</td>\n",
              "      <td>1</td>\n",
              "    </tr>\n",
              "    <tr>\n",
              "      <th>1379</th>\n",
              "      <td>3</td>\n",
              "      <td>27</td>\n",
              "      <td>22</td>\n",
              "      <td>2</td>\n",
              "      <td>No</td>\n",
              "      <td>0</td>\n",
              "      <td>3</td>\n",
              "      <td>1</td>\n",
              "      <td>0</td>\n",
              "      <td>1</td>\n",
              "    </tr>\n",
              "    <tr>\n",
              "      <th>543</th>\n",
              "      <td>3</td>\n",
              "      <td>44</td>\n",
              "      <td>24</td>\n",
              "      <td>3</td>\n",
              "      <td>No</td>\n",
              "      <td>0</td>\n",
              "      <td>3</td>\n",
              "      <td>5</td>\n",
              "      <td>1</td>\n",
              "      <td>2</td>\n",
              "    </tr>\n",
              "    <tr>\n",
              "      <th>...</th>\n",
              "      <td>...</td>\n",
              "      <td>...</td>\n",
              "      <td>...</td>\n",
              "      <td>...</td>\n",
              "      <td>...</td>\n",
              "      <td>...</td>\n",
              "      <td>...</td>\n",
              "      <td>...</td>\n",
              "      <td>...</td>\n",
              "      <td>...</td>\n",
              "    </tr>\n",
              "    <tr>\n",
              "      <th>1270</th>\n",
              "      <td>2</td>\n",
              "      <td>34</td>\n",
              "      <td>3</td>\n",
              "      <td>4</td>\n",
              "      <td>No</td>\n",
              "      <td>0</td>\n",
              "      <td>3</td>\n",
              "      <td>2</td>\n",
              "      <td>2</td>\n",
              "      <td>5</td>\n",
              "    </tr>\n",
              "    <tr>\n",
              "      <th>282</th>\n",
              "      <td>2</td>\n",
              "      <td>29</td>\n",
              "      <td>2</td>\n",
              "      <td>4</td>\n",
              "      <td>No</td>\n",
              "      <td>0</td>\n",
              "      <td>2</td>\n",
              "      <td>10</td>\n",
              "      <td>0</td>\n",
              "      <td>1</td>\n",
              "    </tr>\n",
              "    <tr>\n",
              "      <th>75</th>\n",
              "      <td>4</td>\n",
              "      <td>31</td>\n",
              "      <td>8</td>\n",
              "      <td>4</td>\n",
              "      <td>No</td>\n",
              "      <td>0</td>\n",
              "      <td>3</td>\n",
              "      <td>11</td>\n",
              "      <td>1</td>\n",
              "      <td>1</td>\n",
              "    </tr>\n",
              "    <tr>\n",
              "      <th>371</th>\n",
              "      <td>3</td>\n",
              "      <td>29</td>\n",
              "      <td>23</td>\n",
              "      <td>4</td>\n",
              "      <td>No</td>\n",
              "      <td>0</td>\n",
              "      <td>3</td>\n",
              "      <td>3</td>\n",
              "      <td>1</td>\n",
              "      <td>9</td>\n",
              "    </tr>\n",
              "    <tr>\n",
              "      <th>794</th>\n",
              "      <td>1</td>\n",
              "      <td>34</td>\n",
              "      <td>3</td>\n",
              "      <td>4</td>\n",
              "      <td>No</td>\n",
              "      <td>0</td>\n",
              "      <td>2</td>\n",
              "      <td>6</td>\n",
              "      <td>0</td>\n",
              "      <td>0</td>\n",
              "    </tr>\n",
              "  </tbody>\n",
              "</table>\n",
              "<p>1102 rows × 10 columns</p>\n",
              "</div>"
            ],
            "text/plain": [
              "      Education  Age  DistanceFromHome  JobSatisfaction OverTime  \\\n",
              "1460          4   29                28                1       No   \n",
              "666           1   22                 3                3      Yes   \n",
              "844           3   30                10                3       No   \n",
              "1379          3   27                22                2       No   \n",
              "543           3   44                24                3       No   \n",
              "...         ...  ...               ...              ...      ...   \n",
              "1270          2   34                 3                4       No   \n",
              "282           2   29                 2                4       No   \n",
              "75            4   31                 8                4       No   \n",
              "371           3   29                23                4       No   \n",
              "794           1   34                 3                4       No   \n",
              "\n",
              "      StockOptionLevel  WorkLifeBalance  YearsAtCompany  \\\n",
              "1460                 0                1               5   \n",
              "666                  1                4               3   \n",
              "844                  1                3              10   \n",
              "1379                 0                3               1   \n",
              "543                  0                3               5   \n",
              "...                ...              ...             ...   \n",
              "1270                 0                3               2   \n",
              "282                  0                2              10   \n",
              "75                   0                3              11   \n",
              "371                  0                3               3   \n",
              "794                  0                2               6   \n",
              "\n",
              "      YearsSinceLastPromotion  NumCompaniesWorked  \n",
              "1460                        0                   1  \n",
              "666                         0                   0  \n",
              "844                         1                   1  \n",
              "1379                        0                   1  \n",
              "543                         1                   2  \n",
              "...                       ...                 ...  \n",
              "1270                        2                   5  \n",
              "282                         0                   1  \n",
              "75                          1                   1  \n",
              "371                         1                   9  \n",
              "794                         0                   0  \n",
              "\n",
              "[1102 rows x 10 columns]"
            ]
          },
          "execution_count": 39,
          "metadata": {},
          "output_type": "execute_result"
        }
      ],
      "source": [
        "X_train"
      ]
    },
    {
      "cell_type": "code",
      "execution_count": 40,
      "metadata": {
        "colab": {
          "base_uri": "https://localhost:8080/"
        },
        "id": "NYubUJqiLCSp",
        "outputId": "53f31721-571c-4c94-d13e-25a715749593"
      },
      "outputs": [
        {
          "name": "stdout",
          "output_type": "stream",
          "text": [
            "Education                    int64\n",
            "Age                          int64\n",
            "DistanceFromHome             int64\n",
            "JobSatisfaction              int64\n",
            "StockOptionLevel             int64\n",
            "WorkLifeBalance              int64\n",
            "YearsAtCompany               int64\n",
            "YearsSinceLastPromotion      int64\n",
            "NumCompaniesWorked           int64\n",
            "OverTime-encoded           float64\n",
            "dtype: object\n"
          ]
        }
      ],
      "source": [
        "# Convert your X data to numeric data types however you see fit\n",
        "# Add new code cells as necessary\n",
        "\n",
        "from sklearn.preprocessing import LabelEncoder, OneHotEncoder\n",
        "\n",
        "encoder = OneHotEncoder(sparse_output=False, drop='first')\n",
        "encoder.fit(np.array(X_train['OverTime']).reshape(-1, 1))\n",
        "\n",
        "X_train['OverTime-encoded'] = encoder.transform(np.array(X_train['OverTime']).reshape(-1, 1))\n",
        "X_test['OverTime-encoded'] = encoder.transform(np.array(X_test['OverTime']).reshape(-1, 1))\n",
        "\n",
        "X_train = X_train.drop(columns='OverTime')\n",
        "X_test = X_test.drop(columns='OverTime')\n",
        "\n",
        "print(X_train.dtypes)\n"
      ]
    },
    {
      "cell_type": "code",
      "execution_count": 41,
      "metadata": {
        "id": "EWA-aIA5Gc3T"
      },
      "outputs": [],
      "source": [
        "# Create a StandardScaler\n",
        "scaler = StandardScaler()\n",
        "\n",
        "# Fit the StandardScaler to the training data\n",
        "scaler.fit(X_train)\n",
        "\n",
        "# Scale the training and testing data\n",
        "X_train_scaled = scaler.transform(X_train)\n",
        "X_test_scaled = scaler.transform(X_test)\n"
      ]
    },
    {
      "cell_type": "code",
      "execution_count": 42,
      "metadata": {
        "colab": {
          "base_uri": "https://localhost:8080/"
        },
        "id": "-z0Mky8vQSz4",
        "outputId": "debefc85-c20b-48f5-f4d9-91eadd65d36a"
      },
      "outputs": [],
      "source": [
        "# Create a OneHotEncoder for the Department column\n",
        "encoder_department = OneHotEncoder(sparse_output=False)\n",
        "\n",
        "# Fit the encoder to the training data\n",
        "encoder_department.fit(np.array(y_train['Department']).reshape(-1, 1))\n",
        "\n",
        "# Create two new variables by applying the encoder\n",
        "# to the training and testing data\n",
        "department_train_encoded = encoder_department.transform(np.array(y_train['Department']).reshape(-1, 1))\n",
        "department_test_encoded = encoder_department.transform(np.array(y_test['Department']).reshape(-1, 1))\n"
      ]
    },
    {
      "cell_type": "code",
      "execution_count": 43,
      "metadata": {
        "colab": {
          "base_uri": "https://localhost:8080/"
        },
        "id": "-G4DSpvFRrk4",
        "outputId": "9842e948-8a55-4b80-8fac-f96714e85589"
      },
      "outputs": [],
      "source": [
        "# Create a OneHotEncoder for the Attrition column\n",
        "\n",
        "encoder_attrition = OneHotEncoder(sparse_output=False)\n",
        "\n",
        "# Fit the encoder to the training data\n",
        "encoder_attrition.fit(np.array(y_train['Attrition']).reshape(-1, 1))\n",
        "\n",
        "# Create two new variables by applying the encoder\n",
        "# to the training and testing data\n",
        "attrition_train_encoded = encoder_attrition.transform(np.array(y_train['Attrition']).reshape(-1, 1))\n",
        "attrition_test_encoded = encoder_attrition.transform(np.array(y_test['Attrition']).reshape(-1, 1))\n"
      ]
    },
    {
      "cell_type": "markdown",
      "metadata": {
        "id": "ykNmu_WWGc3T"
      },
      "source": [
        "## Create, Compile, and Train the Model"
      ]
    },
    {
      "cell_type": "code",
      "execution_count": 44,
      "metadata": {
        "id": "WUptZqmSGc3T"
      },
      "outputs": [
        {
          "name": "stdout",
          "output_type": "stream",
          "text": [
            "Number of features in X_train: 10\n"
          ]
        }
      ],
      "source": [
        "# Find the number of columns in the X training data\n",
        "from tensorflow.keras.layers import Input, Dense\n",
        "num_features = X_train_scaled.shape[1]\n",
        "print(f\"Number of features in X_train: {num_features}\")\n",
        "\n",
        "# Create the input layer\n",
        "input_layer = Input(shape=(num_features,), name='input')\n",
        "\n",
        "# Create at least two shared layers\n",
        "shared_layer_1 = Dense(64, activation='relu', name='shared1')(input_layer)\n",
        "shared_layer_2 = Dense(128, activation='relu', name='shared2')(shared_layer_1)"
      ]
    },
    {
      "cell_type": "code",
      "execution_count": 45,
      "metadata": {
        "id": "JukjTm2yTEqd"
      },
      "outputs": [],
      "source": [
        "# Create a branch for Department\n",
        "# with a hidden layer and an output layer\n",
        "\n",
        "# Create the hidden layer\n",
        "department_hidden = Dense(32, activation='relu', name='department_hidden')(shared_layer_2)\n",
        "\n",
        "# Create the output layer\n",
        "department_output = Dense(3, activation='softmax', name='department_output')(department_hidden)\n"
      ]
    },
    {
      "cell_type": "code",
      "execution_count": 46,
      "metadata": {
        "id": "9OqhUiOJUBkR"
      },
      "outputs": [],
      "source": [
        "# Create a branch for Attrition\n",
        "# with a hidden layer and an output layer\n",
        "\n",
        "# Create the hidden layer\n",
        "attrition_hidden = Dense(32, activation='relu', name='attrition_hidden')(shared_layer_2)\n",
        "\n",
        "# Create the output layer\n",
        "attrition_output = Dense(2, activation='softmax', name='attrition_output')(attrition_hidden)\n"
      ]
    },
    {
      "cell_type": "code",
      "execution_count": 47,
      "metadata": {
        "colab": {
          "base_uri": "https://localhost:8080/"
        },
        "id": "twmuejdxGc3T",
        "outputId": "25096308-b68b-42e4-e4ea-ae82e97c435a"
      },
      "outputs": [
        {
          "data": {
            "text/html": [
              "<pre style=\"white-space:pre;overflow-x:auto;line-height:normal;font-family:Menlo,'DejaVu Sans Mono',consolas,'Courier New',monospace\"><span style=\"font-weight: bold\">Model: \"functional_1\"</span>\n",
              "</pre>\n"
            ],
            "text/plain": [
              "\u001b[1mModel: \"functional_1\"\u001b[0m\n"
            ]
          },
          "metadata": {},
          "output_type": "display_data"
        },
        {
          "data": {
            "text/html": [
              "<pre style=\"white-space:pre;overflow-x:auto;line-height:normal;font-family:Menlo,'DejaVu Sans Mono',consolas,'Courier New',monospace\">┏━━━━━━━━━━━━━━━━━━━━━┳━━━━━━━━━━━━━━━━━━━┳━━━━━━━━━━━━┳━━━━━━━━━━━━━━━━━━━┓\n",
              "┃<span style=\"font-weight: bold\"> Layer (type)        </span>┃<span style=\"font-weight: bold\"> Output Shape      </span>┃<span style=\"font-weight: bold\">    Param # </span>┃<span style=\"font-weight: bold\"> Connected to      </span>┃\n",
              "┡━━━━━━━━━━━━━━━━━━━━━╇━━━━━━━━━━━━━━━━━━━╇━━━━━━━━━━━━╇━━━━━━━━━━━━━━━━━━━┩\n",
              "│ input (<span style=\"color: #0087ff; text-decoration-color: #0087ff\">InputLayer</span>)  │ (<span style=\"color: #00d7ff; text-decoration-color: #00d7ff\">None</span>, <span style=\"color: #00af00; text-decoration-color: #00af00\">10</span>)        │          <span style=\"color: #00af00; text-decoration-color: #00af00\">0</span> │ -                 │\n",
              "├─────────────────────┼───────────────────┼────────────┼───────────────────┤\n",
              "│ shared1 (<span style=\"color: #0087ff; text-decoration-color: #0087ff\">Dense</span>)     │ (<span style=\"color: #00d7ff; text-decoration-color: #00d7ff\">None</span>, <span style=\"color: #00af00; text-decoration-color: #00af00\">64</span>)        │        <span style=\"color: #00af00; text-decoration-color: #00af00\">704</span> │ input[<span style=\"color: #00af00; text-decoration-color: #00af00\">0</span>][<span style=\"color: #00af00; text-decoration-color: #00af00\">0</span>]       │\n",
              "├─────────────────────┼───────────────────┼────────────┼───────────────────┤\n",
              "│ shared2 (<span style=\"color: #0087ff; text-decoration-color: #0087ff\">Dense</span>)     │ (<span style=\"color: #00d7ff; text-decoration-color: #00d7ff\">None</span>, <span style=\"color: #00af00; text-decoration-color: #00af00\">128</span>)       │      <span style=\"color: #00af00; text-decoration-color: #00af00\">8,320</span> │ shared1[<span style=\"color: #00af00; text-decoration-color: #00af00\">0</span>][<span style=\"color: #00af00; text-decoration-color: #00af00\">0</span>]     │\n",
              "├─────────────────────┼───────────────────┼────────────┼───────────────────┤\n",
              "│ department_hidden   │ (<span style=\"color: #00d7ff; text-decoration-color: #00d7ff\">None</span>, <span style=\"color: #00af00; text-decoration-color: #00af00\">32</span>)        │      <span style=\"color: #00af00; text-decoration-color: #00af00\">4,128</span> │ shared2[<span style=\"color: #00af00; text-decoration-color: #00af00\">0</span>][<span style=\"color: #00af00; text-decoration-color: #00af00\">0</span>]     │\n",
              "│ (<span style=\"color: #0087ff; text-decoration-color: #0087ff\">Dense</span>)             │                   │            │                   │\n",
              "├─────────────────────┼───────────────────┼────────────┼───────────────────┤\n",
              "│ attrition_hidden    │ (<span style=\"color: #00d7ff; text-decoration-color: #00d7ff\">None</span>, <span style=\"color: #00af00; text-decoration-color: #00af00\">32</span>)        │      <span style=\"color: #00af00; text-decoration-color: #00af00\">4,128</span> │ shared2[<span style=\"color: #00af00; text-decoration-color: #00af00\">0</span>][<span style=\"color: #00af00; text-decoration-color: #00af00\">0</span>]     │\n",
              "│ (<span style=\"color: #0087ff; text-decoration-color: #0087ff\">Dense</span>)             │                   │            │                   │\n",
              "├─────────────────────┼───────────────────┼────────────┼───────────────────┤\n",
              "│ department_output   │ (<span style=\"color: #00d7ff; text-decoration-color: #00d7ff\">None</span>, <span style=\"color: #00af00; text-decoration-color: #00af00\">3</span>)         │         <span style=\"color: #00af00; text-decoration-color: #00af00\">99</span> │ department_hidde… │\n",
              "│ (<span style=\"color: #0087ff; text-decoration-color: #0087ff\">Dense</span>)             │                   │            │                   │\n",
              "├─────────────────────┼───────────────────┼────────────┼───────────────────┤\n",
              "│ attrition_output    │ (<span style=\"color: #00d7ff; text-decoration-color: #00d7ff\">None</span>, <span style=\"color: #00af00; text-decoration-color: #00af00\">2</span>)         │         <span style=\"color: #00af00; text-decoration-color: #00af00\">66</span> │ attrition_hidden… │\n",
              "│ (<span style=\"color: #0087ff; text-decoration-color: #0087ff\">Dense</span>)             │                   │            │                   │\n",
              "└─────────────────────┴───────────────────┴────────────┴───────────────────┘\n",
              "</pre>\n"
            ],
            "text/plain": [
              "┏━━━━━━━━━━━━━━━━━━━━━┳━━━━━━━━━━━━━━━━━━━┳━━━━━━━━━━━━┳━━━━━━━━━━━━━━━━━━━┓\n",
              "┃\u001b[1m \u001b[0m\u001b[1mLayer (type)       \u001b[0m\u001b[1m \u001b[0m┃\u001b[1m \u001b[0m\u001b[1mOutput Shape     \u001b[0m\u001b[1m \u001b[0m┃\u001b[1m \u001b[0m\u001b[1m   Param #\u001b[0m\u001b[1m \u001b[0m┃\u001b[1m \u001b[0m\u001b[1mConnected to     \u001b[0m\u001b[1m \u001b[0m┃\n",
              "┡━━━━━━━━━━━━━━━━━━━━━╇━━━━━━━━━━━━━━━━━━━╇━━━━━━━━━━━━╇━━━━━━━━━━━━━━━━━━━┩\n",
              "│ input (\u001b[38;5;33mInputLayer\u001b[0m)  │ (\u001b[38;5;45mNone\u001b[0m, \u001b[38;5;34m10\u001b[0m)        │          \u001b[38;5;34m0\u001b[0m │ -                 │\n",
              "├─────────────────────┼───────────────────┼────────────┼───────────────────┤\n",
              "│ shared1 (\u001b[38;5;33mDense\u001b[0m)     │ (\u001b[38;5;45mNone\u001b[0m, \u001b[38;5;34m64\u001b[0m)        │        \u001b[38;5;34m704\u001b[0m │ input[\u001b[38;5;34m0\u001b[0m][\u001b[38;5;34m0\u001b[0m]       │\n",
              "├─────────────────────┼───────────────────┼────────────┼───────────────────┤\n",
              "│ shared2 (\u001b[38;5;33mDense\u001b[0m)     │ (\u001b[38;5;45mNone\u001b[0m, \u001b[38;5;34m128\u001b[0m)       │      \u001b[38;5;34m8,320\u001b[0m │ shared1[\u001b[38;5;34m0\u001b[0m][\u001b[38;5;34m0\u001b[0m]     │\n",
              "├─────────────────────┼───────────────────┼────────────┼───────────────────┤\n",
              "│ department_hidden   │ (\u001b[38;5;45mNone\u001b[0m, \u001b[38;5;34m32\u001b[0m)        │      \u001b[38;5;34m4,128\u001b[0m │ shared2[\u001b[38;5;34m0\u001b[0m][\u001b[38;5;34m0\u001b[0m]     │\n",
              "│ (\u001b[38;5;33mDense\u001b[0m)             │                   │            │                   │\n",
              "├─────────────────────┼───────────────────┼────────────┼───────────────────┤\n",
              "│ attrition_hidden    │ (\u001b[38;5;45mNone\u001b[0m, \u001b[38;5;34m32\u001b[0m)        │      \u001b[38;5;34m4,128\u001b[0m │ shared2[\u001b[38;5;34m0\u001b[0m][\u001b[38;5;34m0\u001b[0m]     │\n",
              "│ (\u001b[38;5;33mDense\u001b[0m)             │                   │            │                   │\n",
              "├─────────────────────┼───────────────────┼────────────┼───────────────────┤\n",
              "│ department_output   │ (\u001b[38;5;45mNone\u001b[0m, \u001b[38;5;34m3\u001b[0m)         │         \u001b[38;5;34m99\u001b[0m │ department_hidde… │\n",
              "│ (\u001b[38;5;33mDense\u001b[0m)             │                   │            │                   │\n",
              "├─────────────────────┼───────────────────┼────────────┼───────────────────┤\n",
              "│ attrition_output    │ (\u001b[38;5;45mNone\u001b[0m, \u001b[38;5;34m2\u001b[0m)         │         \u001b[38;5;34m66\u001b[0m │ attrition_hidden… │\n",
              "│ (\u001b[38;5;33mDense\u001b[0m)             │                   │            │                   │\n",
              "└─────────────────────┴───────────────────┴────────────┴───────────────────┘\n"
            ]
          },
          "metadata": {},
          "output_type": "display_data"
        },
        {
          "data": {
            "text/html": [
              "<pre style=\"white-space:pre;overflow-x:auto;line-height:normal;font-family:Menlo,'DejaVu Sans Mono',consolas,'Courier New',monospace\"><span style=\"font-weight: bold\"> Total params: </span><span style=\"color: #00af00; text-decoration-color: #00af00\">17,445</span> (68.14 KB)\n",
              "</pre>\n"
            ],
            "text/plain": [
              "\u001b[1m Total params: \u001b[0m\u001b[38;5;34m17,445\u001b[0m (68.14 KB)\n"
            ]
          },
          "metadata": {},
          "output_type": "display_data"
        },
        {
          "data": {
            "text/html": [
              "<pre style=\"white-space:pre;overflow-x:auto;line-height:normal;font-family:Menlo,'DejaVu Sans Mono',consolas,'Courier New',monospace\"><span style=\"font-weight: bold\"> Trainable params: </span><span style=\"color: #00af00; text-decoration-color: #00af00\">17,445</span> (68.14 KB)\n",
              "</pre>\n"
            ],
            "text/plain": [
              "\u001b[1m Trainable params: \u001b[0m\u001b[38;5;34m17,445\u001b[0m (68.14 KB)\n"
            ]
          },
          "metadata": {},
          "output_type": "display_data"
        },
        {
          "data": {
            "text/html": [
              "<pre style=\"white-space:pre;overflow-x:auto;line-height:normal;font-family:Menlo,'DejaVu Sans Mono',consolas,'Courier New',monospace\"><span style=\"font-weight: bold\"> Non-trainable params: </span><span style=\"color: #00af00; text-decoration-color: #00af00\">0</span> (0.00 B)\n",
              "</pre>\n"
            ],
            "text/plain": [
              "\u001b[1m Non-trainable params: \u001b[0m\u001b[38;5;34m0\u001b[0m (0.00 B)\n"
            ]
          },
          "metadata": {},
          "output_type": "display_data"
        }
      ],
      "source": [
        "# Create the model\n",
        "model = Model(inputs=input_layer, outputs=[department_output, attrition_output])\n",
        "\n",
        "# Compile the model\n",
        "model.compile(optimizer='adam', loss={'department_output':'categorical_crossentropy','attrition_output': 'categorical_crossentropy'},metrics={'department_output': 'accuracy','attrition_output': 'accuracy'})\n",
        "\n",
        "# Summarize the model\n",
        "model.summary()"
      ]
    },
    {
      "cell_type": "code",
      "execution_count": 48,
      "metadata": {
        "colab": {
          "base_uri": "https://localhost:8080/"
        },
        "id": "c8oGy0dpGc3U",
        "outputId": "cc667d43-28cf-42d4-d719-c2bc02888d30"
      },
      "outputs": [
        {
          "name": "stdout",
          "output_type": "stream",
          "text": [
            "Epoch 1/100\n",
            "\u001b[1m35/35\u001b[0m \u001b[32m━━━━━━━━━━━━━━━━━━━━\u001b[0m\u001b[37m\u001b[0m \u001b[1m3s\u001b[0m 15ms/step - attrition_output_accuracy: 0.6279 - attrition_output_loss: 0.6258 - department_output_accuracy: 0.5571 - department_output_loss: 0.9565 - loss: 1.5830 - val_attrition_output_accuracy: 0.8560 - val_attrition_output_loss: 0.3940 - val_department_output_accuracy: 0.6685 - val_department_output_loss: 0.8185 - val_loss: 1.2159\n",
            "Epoch 2/100\n",
            "\u001b[1m35/35\u001b[0m \u001b[32m━━━━━━━━━━━━━━━━━━━━\u001b[0m\u001b[37m\u001b[0m \u001b[1m0s\u001b[0m 4ms/step - attrition_output_accuracy: 0.8552 - attrition_output_loss: 0.3896 - department_output_accuracy: 0.6724 - department_output_loss: 0.7415 - loss: 1.1312 - val_attrition_output_accuracy: 0.8641 - val_attrition_output_loss: 0.3604 - val_department_output_accuracy: 0.6549 - val_department_output_loss: 0.8267 - val_loss: 1.1875\n",
            "Epoch 3/100\n",
            "\u001b[1m35/35\u001b[0m \u001b[32m━━━━━━━━━━━━━━━━━━━━\u001b[0m\u001b[37m\u001b[0m \u001b[1m0s\u001b[0m 4ms/step - attrition_output_accuracy: 0.8407 - attrition_output_loss: 0.4072 - department_output_accuracy: 0.6590 - department_output_loss: 0.7619 - loss: 1.1691 - val_attrition_output_accuracy: 0.8641 - val_attrition_output_loss: 0.3441 - val_department_output_accuracy: 0.6685 - val_department_output_loss: 0.8094 - val_loss: 1.1531\n",
            "Epoch 4/100\n",
            "\u001b[1m35/35\u001b[0m \u001b[32m━━━━━━━━━━━━━━━━━━━━\u001b[0m\u001b[37m\u001b[0m \u001b[1m0s\u001b[0m 3ms/step - attrition_output_accuracy: 0.8524 - attrition_output_loss: 0.3861 - department_output_accuracy: 0.6307 - department_output_loss: 0.7652 - loss: 1.1514 - val_attrition_output_accuracy: 0.8641 - val_attrition_output_loss: 0.3452 - val_department_output_accuracy: 0.6685 - val_department_output_loss: 0.8150 - val_loss: 1.1589\n",
            "Epoch 5/100\n",
            "\u001b[1m35/35\u001b[0m \u001b[32m━━━━━━━━━━━━━━━━━━━━\u001b[0m\u001b[37m\u001b[0m \u001b[1m0s\u001b[0m 3ms/step - attrition_output_accuracy: 0.8704 - attrition_output_loss: 0.3299 - department_output_accuracy: 0.6595 - department_output_loss: 0.7315 - loss: 1.0614 - val_attrition_output_accuracy: 0.8668 - val_attrition_output_loss: 0.3427 - val_department_output_accuracy: 0.6685 - val_department_output_loss: 0.8174 - val_loss: 1.1587\n",
            "Epoch 6/100\n",
            "\u001b[1m35/35\u001b[0m \u001b[32m━━━━━━━━━━━━━━━━━━━━\u001b[0m\u001b[37m\u001b[0m \u001b[1m0s\u001b[0m 4ms/step - attrition_output_accuracy: 0.8672 - attrition_output_loss: 0.3447 - department_output_accuracy: 0.6595 - department_output_loss: 0.7309 - loss: 1.0756 - val_attrition_output_accuracy: 0.8614 - val_attrition_output_loss: 0.3482 - val_department_output_accuracy: 0.6576 - val_department_output_loss: 0.8223 - val_loss: 1.1694\n",
            "Epoch 7/100\n",
            "\u001b[1m35/35\u001b[0m \u001b[32m━━━━━━━━━━━━━━━━━━━━\u001b[0m\u001b[37m\u001b[0m \u001b[1m0s\u001b[0m 4ms/step - attrition_output_accuracy: 0.8478 - attrition_output_loss: 0.3623 - department_output_accuracy: 0.6263 - department_output_loss: 0.7441 - loss: 1.1064 - val_attrition_output_accuracy: 0.8668 - val_attrition_output_loss: 0.3316 - val_department_output_accuracy: 0.6467 - val_department_output_loss: 0.8211 - val_loss: 1.1510\n",
            "Epoch 8/100\n",
            "\u001b[1m35/35\u001b[0m \u001b[32m━━━━━━━━━━━━━━━━━━━━\u001b[0m\u001b[37m\u001b[0m \u001b[1m0s\u001b[0m 3ms/step - attrition_output_accuracy: 0.8854 - attrition_output_loss: 0.3062 - department_output_accuracy: 0.6733 - department_output_loss: 0.6987 - loss: 1.0048 - val_attrition_output_accuracy: 0.8641 - val_attrition_output_loss: 0.3520 - val_department_output_accuracy: 0.6304 - val_department_output_loss: 0.8296 - val_loss: 1.1815\n",
            "Epoch 9/100\n",
            "\u001b[1m35/35\u001b[0m \u001b[32m━━━━━━━━━━━━━━━━━━━━\u001b[0m\u001b[37m\u001b[0m \u001b[1m0s\u001b[0m 3ms/step - attrition_output_accuracy: 0.8777 - attrition_output_loss: 0.3324 - department_output_accuracy: 0.6691 - department_output_loss: 0.7165 - loss: 1.0488 - val_attrition_output_accuracy: 0.8804 - val_attrition_output_loss: 0.3247 - val_department_output_accuracy: 0.6440 - val_department_output_loss: 0.8274 - val_loss: 1.1504\n",
            "Epoch 10/100\n",
            "\u001b[1m35/35\u001b[0m \u001b[32m━━━━━━━━━━━━━━━━━━━━\u001b[0m\u001b[37m\u001b[0m \u001b[1m0s\u001b[0m 3ms/step - attrition_output_accuracy: 0.8695 - attrition_output_loss: 0.3196 - department_output_accuracy: 0.6705 - department_output_loss: 0.7153 - loss: 1.0352 - val_attrition_output_accuracy: 0.8641 - val_attrition_output_loss: 0.3354 - val_department_output_accuracy: 0.6495 - val_department_output_loss: 0.8252 - val_loss: 1.1595\n",
            "Epoch 11/100\n",
            "\u001b[1m35/35\u001b[0m \u001b[32m━━━━━━━━━━━━━━━━━━━━\u001b[0m\u001b[37m\u001b[0m \u001b[1m0s\u001b[0m 3ms/step - attrition_output_accuracy: 0.8925 - attrition_output_loss: 0.2910 - department_output_accuracy: 0.6785 - department_output_loss: 0.6893 - loss: 0.9804 - val_attrition_output_accuracy: 0.8723 - val_attrition_output_loss: 0.3269 - val_department_output_accuracy: 0.6440 - val_department_output_loss: 0.8246 - val_loss: 1.1506\n",
            "Epoch 12/100\n",
            "\u001b[1m35/35\u001b[0m \u001b[32m━━━━━━━━━━━━━━━━━━━━\u001b[0m\u001b[37m\u001b[0m \u001b[1m0s\u001b[0m 3ms/step - attrition_output_accuracy: 0.8862 - attrition_output_loss: 0.2830 - department_output_accuracy: 0.6641 - department_output_loss: 0.7079 - loss: 0.9907 - val_attrition_output_accuracy: 0.8777 - val_attrition_output_loss: 0.3410 - val_department_output_accuracy: 0.6522 - val_department_output_loss: 0.8274 - val_loss: 1.1669\n",
            "Epoch 13/100\n",
            "\u001b[1m35/35\u001b[0m \u001b[32m━━━━━━━━━━━━━━━━━━━━\u001b[0m\u001b[37m\u001b[0m \u001b[1m0s\u001b[0m 3ms/step - attrition_output_accuracy: 0.8787 - attrition_output_loss: 0.2968 - department_output_accuracy: 0.6729 - department_output_loss: 0.6816 - loss: 0.9785 - val_attrition_output_accuracy: 0.8750 - val_attrition_output_loss: 0.3418 - val_department_output_accuracy: 0.6576 - val_department_output_loss: 0.8254 - val_loss: 1.1651\n",
            "Epoch 14/100\n",
            "\u001b[1m35/35\u001b[0m \u001b[32m━━━━━━━━━━━━━━━━━━━━\u001b[0m\u001b[37m\u001b[0m \u001b[1m0s\u001b[0m 3ms/step - attrition_output_accuracy: 0.8813 - attrition_output_loss: 0.2866 - department_output_accuracy: 0.6807 - department_output_loss: 0.6664 - loss: 0.9527 - val_attrition_output_accuracy: 0.8886 - val_attrition_output_loss: 0.3235 - val_department_output_accuracy: 0.6359 - val_department_output_loss: 0.8351 - val_loss: 1.1569\n",
            "Epoch 15/100\n",
            "\u001b[1m35/35\u001b[0m \u001b[32m━━━━━━━━━━━━━━━━━━━━\u001b[0m\u001b[37m\u001b[0m \u001b[1m0s\u001b[0m 3ms/step - attrition_output_accuracy: 0.8998 - attrition_output_loss: 0.2691 - department_output_accuracy: 0.6889 - department_output_loss: 0.6619 - loss: 0.9305 - val_attrition_output_accuracy: 0.8614 - val_attrition_output_loss: 0.3440 - val_department_output_accuracy: 0.6576 - val_department_output_loss: 0.8427 - val_loss: 1.1852\n",
            "Epoch 16/100\n",
            "\u001b[1m35/35\u001b[0m \u001b[32m━━━━━━━━━━━━━━━━━━━━\u001b[0m\u001b[37m\u001b[0m \u001b[1m0s\u001b[0m 3ms/step - attrition_output_accuracy: 0.8836 - attrition_output_loss: 0.2856 - department_output_accuracy: 0.6714 - department_output_loss: 0.6734 - loss: 0.9588 - val_attrition_output_accuracy: 0.8668 - val_attrition_output_loss: 0.3385 - val_department_output_accuracy: 0.6467 - val_department_output_loss: 0.8393 - val_loss: 1.1766\n",
            "Epoch 17/100\n",
            "\u001b[1m35/35\u001b[0m \u001b[32m━━━━━━━━━━━━━━━━━━━━\u001b[0m\u001b[37m\u001b[0m \u001b[1m0s\u001b[0m 3ms/step - attrition_output_accuracy: 0.8834 - attrition_output_loss: 0.2744 - department_output_accuracy: 0.6843 - department_output_loss: 0.6687 - loss: 0.9433 - val_attrition_output_accuracy: 0.8696 - val_attrition_output_loss: 0.3372 - val_department_output_accuracy: 0.6440 - val_department_output_loss: 0.8413 - val_loss: 1.1762\n",
            "Epoch 18/100\n",
            "\u001b[1m35/35\u001b[0m \u001b[32m━━━━━━━━━━━━━━━━━━━━\u001b[0m\u001b[37m\u001b[0m \u001b[1m0s\u001b[0m 3ms/step - attrition_output_accuracy: 0.9120 - attrition_output_loss: 0.2481 - department_output_accuracy: 0.7021 - department_output_loss: 0.6326 - loss: 0.8807 - val_attrition_output_accuracy: 0.8641 - val_attrition_output_loss: 0.3440 - val_department_output_accuracy: 0.6630 - val_department_output_loss: 0.8366 - val_loss: 1.1792\n",
            "Epoch 19/100\n",
            "\u001b[1m35/35\u001b[0m \u001b[32m━━━━━━━━━━━━━━━━━━━━\u001b[0m\u001b[37m\u001b[0m \u001b[1m0s\u001b[0m 3ms/step - attrition_output_accuracy: 0.9058 - attrition_output_loss: 0.2604 - department_output_accuracy: 0.7161 - department_output_loss: 0.6155 - loss: 0.8758 - val_attrition_output_accuracy: 0.8750 - val_attrition_output_loss: 0.3496 - val_department_output_accuracy: 0.6386 - val_department_output_loss: 0.8522 - val_loss: 1.1997\n",
            "Epoch 20/100\n",
            "\u001b[1m35/35\u001b[0m \u001b[32m━━━━━━━━━━━━━━━━━━━━\u001b[0m\u001b[37m\u001b[0m \u001b[1m0s\u001b[0m 3ms/step - attrition_output_accuracy: 0.9039 - attrition_output_loss: 0.2511 - department_output_accuracy: 0.6892 - department_output_loss: 0.6362 - loss: 0.8870 - val_attrition_output_accuracy: 0.8750 - val_attrition_output_loss: 0.3417 - val_department_output_accuracy: 0.6033 - val_department_output_loss: 0.8563 - val_loss: 1.1946\n",
            "Epoch 21/100\n",
            "\u001b[1m35/35\u001b[0m \u001b[32m━━━━━━━━━━━━━━━━━━━━\u001b[0m\u001b[37m\u001b[0m \u001b[1m0s\u001b[0m 3ms/step - attrition_output_accuracy: 0.9119 - attrition_output_loss: 0.2304 - department_output_accuracy: 0.7143 - department_output_loss: 0.6189 - loss: 0.8491 - val_attrition_output_accuracy: 0.8587 - val_attrition_output_loss: 0.3491 - val_department_output_accuracy: 0.6223 - val_department_output_loss: 0.8721 - val_loss: 1.2198\n",
            "Epoch 22/100\n",
            "\u001b[1m35/35\u001b[0m \u001b[32m━━━━━━━━━━━━━━━━━━━━\u001b[0m\u001b[37m\u001b[0m \u001b[1m0s\u001b[0m 4ms/step - attrition_output_accuracy: 0.9213 - attrition_output_loss: 0.2199 - department_output_accuracy: 0.7376 - department_output_loss: 0.6051 - loss: 0.8252 - val_attrition_output_accuracy: 0.8777 - val_attrition_output_loss: 0.3460 - val_department_output_accuracy: 0.6277 - val_department_output_loss: 0.8692 - val_loss: 1.2129\n",
            "Epoch 23/100\n",
            "\u001b[1m35/35\u001b[0m \u001b[32m━━━━━━━━━━━━━━━━━━━━\u001b[0m\u001b[37m\u001b[0m \u001b[1m0s\u001b[0m 3ms/step - attrition_output_accuracy: 0.9117 - attrition_output_loss: 0.2195 - department_output_accuracy: 0.7636 - department_output_loss: 0.5771 - loss: 0.7965 - val_attrition_output_accuracy: 0.8614 - val_attrition_output_loss: 0.3631 - val_department_output_accuracy: 0.6005 - val_department_output_loss: 0.8914 - val_loss: 1.2511\n",
            "Epoch 24/100\n",
            "\u001b[1m35/35\u001b[0m \u001b[32m━━━━━━━━━━━━━━━━━━━━\u001b[0m\u001b[37m\u001b[0m \u001b[1m0s\u001b[0m 3ms/step - attrition_output_accuracy: 0.9051 - attrition_output_loss: 0.2408 - department_output_accuracy: 0.7651 - department_output_loss: 0.5480 - loss: 0.7889 - val_attrition_output_accuracy: 0.8560 - val_attrition_output_loss: 0.3629 - val_department_output_accuracy: 0.5870 - val_department_output_loss: 0.8819 - val_loss: 1.2401\n",
            "Epoch 25/100\n",
            "\u001b[1m35/35\u001b[0m \u001b[32m━━━━━━━━━━━━━━━━━━━━\u001b[0m\u001b[37m\u001b[0m \u001b[1m0s\u001b[0m 3ms/step - attrition_output_accuracy: 0.9199 - attrition_output_loss: 0.2074 - department_output_accuracy: 0.7540 - department_output_loss: 0.5660 - loss: 0.7734 - val_attrition_output_accuracy: 0.8478 - val_attrition_output_loss: 0.3614 - val_department_output_accuracy: 0.6005 - val_department_output_loss: 0.9209 - val_loss: 1.2804\n",
            "Epoch 26/100\n",
            "\u001b[1m35/35\u001b[0m \u001b[32m━━━━━━━━━━━━━━━━━━━━\u001b[0m\u001b[37m\u001b[0m \u001b[1m0s\u001b[0m 4ms/step - attrition_output_accuracy: 0.9161 - attrition_output_loss: 0.2079 - department_output_accuracy: 0.7730 - department_output_loss: 0.5501 - loss: 0.7583 - val_attrition_output_accuracy: 0.8696 - val_attrition_output_loss: 0.3660 - val_department_output_accuracy: 0.6332 - val_department_output_loss: 0.9046 - val_loss: 1.2628\n",
            "Epoch 27/100\n",
            "\u001b[1m35/35\u001b[0m \u001b[32m━━━━━━━━━━━━━━━━━━━━\u001b[0m\u001b[37m\u001b[0m \u001b[1m0s\u001b[0m 5ms/step - attrition_output_accuracy: 0.9268 - attrition_output_loss: 0.1927 - department_output_accuracy: 0.7627 - department_output_loss: 0.5329 - loss: 0.7255 - val_attrition_output_accuracy: 0.8696 - val_attrition_output_loss: 0.3738 - val_department_output_accuracy: 0.5408 - val_department_output_loss: 0.9353 - val_loss: 1.3059\n",
            "Epoch 28/100\n",
            "\u001b[1m35/35\u001b[0m \u001b[32m━━━━━━━━━━━━━━━━━━━━\u001b[0m\u001b[37m\u001b[0m \u001b[1m0s\u001b[0m 4ms/step - attrition_output_accuracy: 0.9203 - attrition_output_loss: 0.2159 - department_output_accuracy: 0.7816 - department_output_loss: 0.5471 - loss: 0.7627 - val_attrition_output_accuracy: 0.8587 - val_attrition_output_loss: 0.3678 - val_department_output_accuracy: 0.5897 - val_department_output_loss: 0.9358 - val_loss: 1.2980\n",
            "Epoch 29/100\n",
            "\u001b[1m35/35\u001b[0m \u001b[32m━━━━━━━━━━━━━━━━━━━━\u001b[0m\u001b[37m\u001b[0m \u001b[1m0s\u001b[0m 4ms/step - attrition_output_accuracy: 0.9159 - attrition_output_loss: 0.2107 - department_output_accuracy: 0.7801 - department_output_loss: 0.5341 - loss: 0.7445 - val_attrition_output_accuracy: 0.8587 - val_attrition_output_loss: 0.3953 - val_department_output_accuracy: 0.6087 - val_department_output_loss: 0.9634 - val_loss: 1.3563\n",
            "Epoch 30/100\n",
            "\u001b[1m35/35\u001b[0m \u001b[32m━━━━━━━━━━━━━━━━━━━━\u001b[0m\u001b[37m\u001b[0m \u001b[1m0s\u001b[0m 4ms/step - attrition_output_accuracy: 0.9266 - attrition_output_loss: 0.2021 - department_output_accuracy: 0.7930 - department_output_loss: 0.4942 - loss: 0.6960 - val_attrition_output_accuracy: 0.8424 - val_attrition_output_loss: 0.4097 - val_department_output_accuracy: 0.6196 - val_department_output_loss: 0.9709 - val_loss: 1.3778\n",
            "Epoch 31/100\n",
            "\u001b[1m35/35\u001b[0m \u001b[32m━━━━━━━━━━━━━━━━━━━━\u001b[0m\u001b[37m\u001b[0m \u001b[1m0s\u001b[0m 5ms/step - attrition_output_accuracy: 0.9240 - attrition_output_loss: 0.2014 - department_output_accuracy: 0.8068 - department_output_loss: 0.4946 - loss: 0.6961 - val_attrition_output_accuracy: 0.8478 - val_attrition_output_loss: 0.4002 - val_department_output_accuracy: 0.6467 - val_department_output_loss: 1.0540 - val_loss: 1.4502\n",
            "Epoch 32/100\n",
            "\u001b[1m35/35\u001b[0m \u001b[32m━━━━━━━━━━━━━━━━━━━━\u001b[0m\u001b[37m\u001b[0m \u001b[1m0s\u001b[0m 4ms/step - attrition_output_accuracy: 0.9374 - attrition_output_loss: 0.1729 - department_output_accuracy: 0.7972 - department_output_loss: 0.4762 - loss: 0.6490 - val_attrition_output_accuracy: 0.8261 - val_attrition_output_loss: 0.4197 - val_department_output_accuracy: 0.6250 - val_department_output_loss: 1.0031 - val_loss: 1.4164\n",
            "Epoch 33/100\n",
            "\u001b[1m35/35\u001b[0m \u001b[32m━━━━━━━━━━━━━━━━━━━━\u001b[0m\u001b[37m\u001b[0m \u001b[1m0s\u001b[0m 3ms/step - attrition_output_accuracy: 0.9328 - attrition_output_loss: 0.1719 - department_output_accuracy: 0.7913 - department_output_loss: 0.4742 - loss: 0.6460 - val_attrition_output_accuracy: 0.8478 - val_attrition_output_loss: 0.4182 - val_department_output_accuracy: 0.6060 - val_department_output_loss: 0.9996 - val_loss: 1.4089\n",
            "Epoch 34/100\n",
            "\u001b[1m35/35\u001b[0m \u001b[32m━━━━━━━━━━━━━━━━━━━━\u001b[0m\u001b[37m\u001b[0m \u001b[1m0s\u001b[0m 3ms/step - attrition_output_accuracy: 0.9413 - attrition_output_loss: 0.1466 - department_output_accuracy: 0.8096 - department_output_loss: 0.4518 - loss: 0.5984 - val_attrition_output_accuracy: 0.8478 - val_attrition_output_loss: 0.4037 - val_department_output_accuracy: 0.6277 - val_department_output_loss: 1.0613 - val_loss: 1.4589\n",
            "Epoch 35/100\n",
            "\u001b[1m35/35\u001b[0m \u001b[32m━━━━━━━━━━━━━━━━━━━━\u001b[0m\u001b[37m\u001b[0m \u001b[1m0s\u001b[0m 3ms/step - attrition_output_accuracy: 0.9409 - attrition_output_loss: 0.1631 - department_output_accuracy: 0.8188 - department_output_loss: 0.4357 - loss: 0.5985 - val_attrition_output_accuracy: 0.8587 - val_attrition_output_loss: 0.4147 - val_department_output_accuracy: 0.6033 - val_department_output_loss: 1.0478 - val_loss: 1.4543\n",
            "Epoch 36/100\n",
            "\u001b[1m35/35\u001b[0m \u001b[32m━━━━━━━━━━━━━━━━━━━━\u001b[0m\u001b[37m\u001b[0m \u001b[1m0s\u001b[0m 3ms/step - attrition_output_accuracy: 0.9470 - attrition_output_loss: 0.1506 - department_output_accuracy: 0.8422 - department_output_loss: 0.4238 - loss: 0.5743 - val_attrition_output_accuracy: 0.8397 - val_attrition_output_loss: 0.4503 - val_department_output_accuracy: 0.5380 - val_department_output_loss: 1.0671 - val_loss: 1.5131\n",
            "Epoch 37/100\n",
            "\u001b[1m35/35\u001b[0m \u001b[32m━━━━━━━━━━━━━━━━━━━━\u001b[0m\u001b[37m\u001b[0m \u001b[1m0s\u001b[0m 3ms/step - attrition_output_accuracy: 0.9568 - attrition_output_loss: 0.1471 - department_output_accuracy: 0.8517 - department_output_loss: 0.4087 - loss: 0.5559 - val_attrition_output_accuracy: 0.8451 - val_attrition_output_loss: 0.4476 - val_department_output_accuracy: 0.5707 - val_department_output_loss: 1.0806 - val_loss: 1.5216\n",
            "Epoch 38/100\n",
            "\u001b[1m35/35\u001b[0m \u001b[32m━━━━━━━━━━━━━━━━━━━━\u001b[0m\u001b[37m\u001b[0m \u001b[1m0s\u001b[0m 3ms/step - attrition_output_accuracy: 0.9616 - attrition_output_loss: 0.1360 - department_output_accuracy: 0.8506 - department_output_loss: 0.3783 - loss: 0.5143 - val_attrition_output_accuracy: 0.8370 - val_attrition_output_loss: 0.4482 - val_department_output_accuracy: 0.5245 - val_department_output_loss: 1.1261 - val_loss: 1.5690\n",
            "Epoch 39/100\n",
            "\u001b[1m35/35\u001b[0m \u001b[32m━━━━━━━━━━━━━━━━━━━━\u001b[0m\u001b[37m\u001b[0m \u001b[1m0s\u001b[0m 3ms/step - attrition_output_accuracy: 0.9605 - attrition_output_loss: 0.1233 - department_output_accuracy: 0.8721 - department_output_loss: 0.3828 - loss: 0.5057 - val_attrition_output_accuracy: 0.8315 - val_attrition_output_loss: 0.4713 - val_department_output_accuracy: 0.5842 - val_department_output_loss: 1.1092 - val_loss: 1.5764\n",
            "Epoch 40/100\n",
            "\u001b[1m35/35\u001b[0m \u001b[32m━━━━━━━━━━━━━━━━━━━━\u001b[0m\u001b[37m\u001b[0m \u001b[1m0s\u001b[0m 3ms/step - attrition_output_accuracy: 0.9331 - attrition_output_loss: 0.1514 - department_output_accuracy: 0.8686 - department_output_loss: 0.3584 - loss: 0.5097 - val_attrition_output_accuracy: 0.8397 - val_attrition_output_loss: 0.4769 - val_department_output_accuracy: 0.5842 - val_department_output_loss: 1.1237 - val_loss: 1.5941\n",
            "Epoch 41/100\n",
            "\u001b[1m35/35\u001b[0m \u001b[32m━━━━━━━━━━━━━━━━━━━━\u001b[0m\u001b[37m\u001b[0m \u001b[1m0s\u001b[0m 3ms/step - attrition_output_accuracy: 0.9586 - attrition_output_loss: 0.1207 - department_output_accuracy: 0.8599 - department_output_loss: 0.3733 - loss: 0.4941 - val_attrition_output_accuracy: 0.8342 - val_attrition_output_loss: 0.4852 - val_department_output_accuracy: 0.5489 - val_department_output_loss: 1.1746 - val_loss: 1.6597\n",
            "Epoch 42/100\n",
            "\u001b[1m35/35\u001b[0m \u001b[32m━━━━━━━━━━━━━━━━━━━━\u001b[0m\u001b[37m\u001b[0m \u001b[1m0s\u001b[0m 3ms/step - attrition_output_accuracy: 0.9656 - attrition_output_loss: 0.1145 - department_output_accuracy: 0.8556 - department_output_loss: 0.3801 - loss: 0.4945 - val_attrition_output_accuracy: 0.8533 - val_attrition_output_loss: 0.4761 - val_department_output_accuracy: 0.4918 - val_department_output_loss: 1.2366 - val_loss: 1.7008\n",
            "Epoch 43/100\n",
            "\u001b[1m35/35\u001b[0m \u001b[32m━━━━━━━━━━━━━━━━━━━━\u001b[0m\u001b[37m\u001b[0m \u001b[1m0s\u001b[0m 3ms/step - attrition_output_accuracy: 0.9603 - attrition_output_loss: 0.1164 - department_output_accuracy: 0.8679 - department_output_loss: 0.3492 - loss: 0.4657 - val_attrition_output_accuracy: 0.8234 - val_attrition_output_loss: 0.5032 - val_department_output_accuracy: 0.5435 - val_department_output_loss: 1.2027 - val_loss: 1.7048\n",
            "Epoch 44/100\n",
            "\u001b[1m35/35\u001b[0m \u001b[32m━━━━━━━━━━━━━━━━━━━━\u001b[0m\u001b[37m\u001b[0m \u001b[1m0s\u001b[0m 3ms/step - attrition_output_accuracy: 0.9660 - attrition_output_loss: 0.1040 - department_output_accuracy: 0.8874 - department_output_loss: 0.3264 - loss: 0.4305 - val_attrition_output_accuracy: 0.8315 - val_attrition_output_loss: 0.5093 - val_department_output_accuracy: 0.5299 - val_department_output_loss: 1.2107 - val_loss: 1.7168\n",
            "Epoch 45/100\n",
            "\u001b[1m35/35\u001b[0m \u001b[32m━━━━━━━━━━━━━━━━━━━━\u001b[0m\u001b[37m\u001b[0m \u001b[1m0s\u001b[0m 3ms/step - attrition_output_accuracy: 0.9677 - attrition_output_loss: 0.0933 - department_output_accuracy: 0.9061 - department_output_loss: 0.3020 - loss: 0.3954 - val_attrition_output_accuracy: 0.8261 - val_attrition_output_loss: 0.5216 - val_department_output_accuracy: 0.5326 - val_department_output_loss: 1.2210 - val_loss: 1.7357\n",
            "Epoch 46/100\n",
            "\u001b[1m35/35\u001b[0m \u001b[32m━━━━━━━━━━━━━━━━━━━━\u001b[0m\u001b[37m\u001b[0m \u001b[1m0s\u001b[0m 3ms/step - attrition_output_accuracy: 0.9781 - attrition_output_loss: 0.0919 - department_output_accuracy: 0.8909 - department_output_loss: 0.3038 - loss: 0.3957 - val_attrition_output_accuracy: 0.8451 - val_attrition_output_loss: 0.5386 - val_department_output_accuracy: 0.4891 - val_department_output_loss: 1.2795 - val_loss: 1.8175\n",
            "Epoch 47/100\n",
            "\u001b[1m35/35\u001b[0m \u001b[32m━━━━━━━━━━━━━━━━━━━━\u001b[0m\u001b[37m\u001b[0m \u001b[1m0s\u001b[0m 3ms/step - attrition_output_accuracy: 0.9673 - attrition_output_loss: 0.0983 - department_output_accuracy: 0.9107 - department_output_loss: 0.2868 - loss: 0.3850 - val_attrition_output_accuracy: 0.8261 - val_attrition_output_loss: 0.5345 - val_department_output_accuracy: 0.4973 - val_department_output_loss: 1.2892 - val_loss: 1.8194\n",
            "Epoch 48/100\n",
            "\u001b[1m35/35\u001b[0m \u001b[32m━━━━━━━━━━━━━━━━━━━━\u001b[0m\u001b[37m\u001b[0m \u001b[1m0s\u001b[0m 3ms/step - attrition_output_accuracy: 0.9771 - attrition_output_loss: 0.0774 - department_output_accuracy: 0.9177 - department_output_loss: 0.2755 - loss: 0.3530 - val_attrition_output_accuracy: 0.8478 - val_attrition_output_loss: 0.5320 - val_department_output_accuracy: 0.5217 - val_department_output_loss: 1.3302 - val_loss: 1.8546\n",
            "Epoch 49/100\n",
            "\u001b[1m35/35\u001b[0m \u001b[32m━━━━━━━━━━━━━━━━━━━━\u001b[0m\u001b[37m\u001b[0m \u001b[1m0s\u001b[0m 3ms/step - attrition_output_accuracy: 0.9857 - attrition_output_loss: 0.0752 - department_output_accuracy: 0.9022 - department_output_loss: 0.2821 - loss: 0.3575 - val_attrition_output_accuracy: 0.8397 - val_attrition_output_loss: 0.5516 - val_department_output_accuracy: 0.5245 - val_department_output_loss: 1.3586 - val_loss: 1.9084\n",
            "Epoch 50/100\n",
            "\u001b[1m35/35\u001b[0m \u001b[32m━━━━━━━━━━━━━━━━━━━━\u001b[0m\u001b[37m\u001b[0m \u001b[1m0s\u001b[0m 3ms/step - attrition_output_accuracy: 0.9839 - attrition_output_loss: 0.0658 - department_output_accuracy: 0.9115 - department_output_loss: 0.2617 - loss: 0.3274 - val_attrition_output_accuracy: 0.8179 - val_attrition_output_loss: 0.5883 - val_department_output_accuracy: 0.5326 - val_department_output_loss: 1.3434 - val_loss: 1.9303\n",
            "Epoch 51/100\n",
            "\u001b[1m35/35\u001b[0m \u001b[32m━━━━━━━━━━━━━━━━━━━━\u001b[0m\u001b[37m\u001b[0m \u001b[1m0s\u001b[0m 3ms/step - attrition_output_accuracy: 0.9833 - attrition_output_loss: 0.0708 - department_output_accuracy: 0.9310 - department_output_loss: 0.2425 - loss: 0.3133 - val_attrition_output_accuracy: 0.8397 - val_attrition_output_loss: 0.5772 - val_department_output_accuracy: 0.5326 - val_department_output_loss: 1.3879 - val_loss: 1.9627\n",
            "Epoch 52/100\n",
            "\u001b[1m35/35\u001b[0m \u001b[32m━━━━━━━━━━━━━━━━━━━━\u001b[0m\u001b[37m\u001b[0m \u001b[1m0s\u001b[0m 3ms/step - attrition_output_accuracy: 0.9865 - attrition_output_loss: 0.0682 - department_output_accuracy: 0.9174 - department_output_loss: 0.2372 - loss: 0.3055 - val_attrition_output_accuracy: 0.8397 - val_attrition_output_loss: 0.5857 - val_department_output_accuracy: 0.5136 - val_department_output_loss: 1.4091 - val_loss: 1.9841\n",
            "Epoch 53/100\n",
            "\u001b[1m35/35\u001b[0m \u001b[32m━━━━━━━━━━━━━━━━━━━━\u001b[0m\u001b[37m\u001b[0m \u001b[1m0s\u001b[0m 4ms/step - attrition_output_accuracy: 0.9804 - attrition_output_loss: 0.0763 - department_output_accuracy: 0.9322 - department_output_loss: 0.2273 - loss: 0.3035 - val_attrition_output_accuracy: 0.8342 - val_attrition_output_loss: 0.6001 - val_department_output_accuracy: 0.5299 - val_department_output_loss: 1.4439 - val_loss: 2.0379\n",
            "Epoch 54/100\n",
            "\u001b[1m35/35\u001b[0m \u001b[32m━━━━━━━━━━━━━━━━━━━━\u001b[0m\u001b[37m\u001b[0m \u001b[1m0s\u001b[0m 3ms/step - attrition_output_accuracy: 0.9795 - attrition_output_loss: 0.0731 - department_output_accuracy: 0.9397 - department_output_loss: 0.2201 - loss: 0.2933 - val_attrition_output_accuracy: 0.8207 - val_attrition_output_loss: 0.5985 - val_department_output_accuracy: 0.5353 - val_department_output_loss: 1.4332 - val_loss: 2.0239\n",
            "Epoch 55/100\n",
            "\u001b[1m35/35\u001b[0m \u001b[32m━━━━━━━━━━━━━━━━━━━━\u001b[0m\u001b[37m\u001b[0m \u001b[1m0s\u001b[0m 3ms/step - attrition_output_accuracy: 0.9887 - attrition_output_loss: 0.0566 - department_output_accuracy: 0.9576 - department_output_loss: 0.1896 - loss: 0.2463 - val_attrition_output_accuracy: 0.8397 - val_attrition_output_loss: 0.6109 - val_department_output_accuracy: 0.5245 - val_department_output_loss: 1.4935 - val_loss: 2.0902\n",
            "Epoch 56/100\n",
            "\u001b[1m35/35\u001b[0m \u001b[32m━━━━━━━━━━━━━━━━━━━━\u001b[0m\u001b[37m\u001b[0m \u001b[1m0s\u001b[0m 3ms/step - attrition_output_accuracy: 0.9833 - attrition_output_loss: 0.0564 - department_output_accuracy: 0.9411 - department_output_loss: 0.2118 - loss: 0.2682 - val_attrition_output_accuracy: 0.8424 - val_attrition_output_loss: 0.6070 - val_department_output_accuracy: 0.5217 - val_department_output_loss: 1.5433 - val_loss: 2.1405\n",
            "Epoch 57/100\n",
            "\u001b[1m35/35\u001b[0m \u001b[32m━━━━━━━━━━━━━━━━━━━━\u001b[0m\u001b[37m\u001b[0m \u001b[1m0s\u001b[0m 3ms/step - attrition_output_accuracy: 0.9875 - attrition_output_loss: 0.0530 - department_output_accuracy: 0.9436 - department_output_loss: 0.1971 - loss: 0.2499 - val_attrition_output_accuracy: 0.8234 - val_attrition_output_loss: 0.6383 - val_department_output_accuracy: 0.5217 - val_department_output_loss: 1.5692 - val_loss: 2.2124\n",
            "Epoch 58/100\n",
            "\u001b[1m35/35\u001b[0m \u001b[32m━━━━━━━━━━━━━━━━━━━━\u001b[0m\u001b[37m\u001b[0m \u001b[1m0s\u001b[0m 3ms/step - attrition_output_accuracy: 0.9888 - attrition_output_loss: 0.0569 - department_output_accuracy: 0.9522 - department_output_loss: 0.1848 - loss: 0.2417 - val_attrition_output_accuracy: 0.8342 - val_attrition_output_loss: 0.6404 - val_department_output_accuracy: 0.5027 - val_department_output_loss: 1.5544 - val_loss: 2.1951\n",
            "Epoch 59/100\n",
            "\u001b[1m35/35\u001b[0m \u001b[32m━━━━━━━━━━━━━━━━━━━━\u001b[0m\u001b[37m\u001b[0m \u001b[1m0s\u001b[0m 3ms/step - attrition_output_accuracy: 0.9949 - attrition_output_loss: 0.0423 - department_output_accuracy: 0.9486 - department_output_loss: 0.1874 - loss: 0.2297 - val_attrition_output_accuracy: 0.8424 - val_attrition_output_loss: 0.6357 - val_department_output_accuracy: 0.5435 - val_department_output_loss: 1.6020 - val_loss: 2.2292\n",
            "Epoch 60/100\n",
            "\u001b[1m35/35\u001b[0m \u001b[32m━━━━━━━━━━━━━━━━━━━━\u001b[0m\u001b[37m\u001b[0m \u001b[1m0s\u001b[0m 3ms/step - attrition_output_accuracy: 0.9903 - attrition_output_loss: 0.0436 - department_output_accuracy: 0.9580 - department_output_loss: 0.1651 - loss: 0.2085 - val_attrition_output_accuracy: 0.8342 - val_attrition_output_loss: 0.6934 - val_department_output_accuracy: 0.5299 - val_department_output_loss: 1.5880 - val_loss: 2.2749\n",
            "Epoch 61/100\n",
            "\u001b[1m35/35\u001b[0m \u001b[32m━━━━━━━━━━━━━━━━━━━━\u001b[0m\u001b[37m\u001b[0m \u001b[1m0s\u001b[0m 3ms/step - attrition_output_accuracy: 0.9867 - attrition_output_loss: 0.0576 - department_output_accuracy: 0.9504 - department_output_loss: 0.1731 - loss: 0.2308 - val_attrition_output_accuracy: 0.8424 - val_attrition_output_loss: 0.6840 - val_department_output_accuracy: 0.5462 - val_department_output_loss: 1.5833 - val_loss: 2.2491\n",
            "Epoch 62/100\n",
            "\u001b[1m35/35\u001b[0m \u001b[32m━━━━━━━━━━━━━━━━━━━━\u001b[0m\u001b[37m\u001b[0m \u001b[1m0s\u001b[0m 3ms/step - attrition_output_accuracy: 0.9836 - attrition_output_loss: 0.0639 - department_output_accuracy: 0.9463 - department_output_loss: 0.1729 - loss: 0.2365 - val_attrition_output_accuracy: 0.8288 - val_attrition_output_loss: 0.7149 - val_department_output_accuracy: 0.4891 - val_department_output_loss: 1.6526 - val_loss: 2.3591\n",
            "Epoch 63/100\n",
            "\u001b[1m35/35\u001b[0m \u001b[32m━━━━━━━━━━━━━━━━━━━━\u001b[0m\u001b[37m\u001b[0m \u001b[1m0s\u001b[0m 3ms/step - attrition_output_accuracy: 0.9879 - attrition_output_loss: 0.0527 - department_output_accuracy: 0.9535 - department_output_loss: 0.1737 - loss: 0.2265 - val_attrition_output_accuracy: 0.8641 - val_attrition_output_loss: 0.7104 - val_department_output_accuracy: 0.5109 - val_department_output_loss: 1.6692 - val_loss: 2.3666\n",
            "Epoch 64/100\n",
            "\u001b[1m35/35\u001b[0m \u001b[32m━━━━━━━━━━━━━━━━━━━━\u001b[0m\u001b[37m\u001b[0m \u001b[1m0s\u001b[0m 3ms/step - attrition_output_accuracy: 0.9786 - attrition_output_loss: 0.0605 - department_output_accuracy: 0.9652 - department_output_loss: 0.1563 - loss: 0.2168 - val_attrition_output_accuracy: 0.8397 - val_attrition_output_loss: 0.7184 - val_department_output_accuracy: 0.4837 - val_department_output_loss: 1.7350 - val_loss: 2.4456\n",
            "Epoch 65/100\n",
            "\u001b[1m35/35\u001b[0m \u001b[32m━━━━━━━━━━━━━━━━━━━━\u001b[0m\u001b[37m\u001b[0m \u001b[1m0s\u001b[0m 3ms/step - attrition_output_accuracy: 0.9929 - attrition_output_loss: 0.0411 - department_output_accuracy: 0.9601 - department_output_loss: 0.1473 - loss: 0.1884 - val_attrition_output_accuracy: 0.8370 - val_attrition_output_loss: 0.7171 - val_department_output_accuracy: 0.5543 - val_department_output_loss: 1.7905 - val_loss: 2.4994\n",
            "Epoch 66/100\n",
            "\u001b[1m35/35\u001b[0m \u001b[32m━━━━━━━━━━━━━━━━━━━━\u001b[0m\u001b[37m\u001b[0m \u001b[1m0s\u001b[0m 4ms/step - attrition_output_accuracy: 0.9930 - attrition_output_loss: 0.0327 - department_output_accuracy: 0.9723 - department_output_loss: 0.1266 - loss: 0.1593 - val_attrition_output_accuracy: 0.8342 - val_attrition_output_loss: 0.7124 - val_department_output_accuracy: 0.5272 - val_department_output_loss: 1.8075 - val_loss: 2.5103\n",
            "Epoch 67/100\n",
            "\u001b[1m35/35\u001b[0m \u001b[32m━━━━━━━━━━━━━━━━━━━━\u001b[0m\u001b[37m\u001b[0m \u001b[1m0s\u001b[0m 3ms/step - attrition_output_accuracy: 0.9971 - attrition_output_loss: 0.0311 - department_output_accuracy: 0.9680 - department_output_loss: 0.1293 - loss: 0.1604 - val_attrition_output_accuracy: 0.8261 - val_attrition_output_loss: 0.7362 - val_department_output_accuracy: 0.5625 - val_department_output_loss: 1.8212 - val_loss: 2.5389\n",
            "Epoch 68/100\n",
            "\u001b[1m35/35\u001b[0m \u001b[32m━━━━━━━━━━━━━━━━━━━━\u001b[0m\u001b[37m\u001b[0m \u001b[1m0s\u001b[0m 3ms/step - attrition_output_accuracy: 0.9976 - attrition_output_loss: 0.0306 - department_output_accuracy: 0.9662 - department_output_loss: 0.1373 - loss: 0.1679 - val_attrition_output_accuracy: 0.8071 - val_attrition_output_loss: 0.7825 - val_department_output_accuracy: 0.5380 - val_department_output_loss: 1.8815 - val_loss: 2.6598\n",
            "Epoch 69/100\n",
            "\u001b[1m35/35\u001b[0m \u001b[32m━━━━━━━━━━━━━━━━━━━━\u001b[0m\u001b[37m\u001b[0m \u001b[1m0s\u001b[0m 3ms/step - attrition_output_accuracy: 0.9910 - attrition_output_loss: 0.0326 - department_output_accuracy: 0.9544 - department_output_loss: 0.1569 - loss: 0.1894 - val_attrition_output_accuracy: 0.8288 - val_attrition_output_loss: 0.7743 - val_department_output_accuracy: 0.5326 - val_department_output_loss: 1.8852 - val_loss: 2.6431\n",
            "Epoch 70/100\n",
            "\u001b[1m35/35\u001b[0m \u001b[32m━━━━━━━━━━━━━━━━━━━━\u001b[0m\u001b[37m\u001b[0m \u001b[1m0s\u001b[0m 3ms/step - attrition_output_accuracy: 0.9932 - attrition_output_loss: 0.0360 - department_output_accuracy: 0.9594 - department_output_loss: 0.1469 - loss: 0.1827 - val_attrition_output_accuracy: 0.8397 - val_attrition_output_loss: 0.7773 - val_department_output_accuracy: 0.5408 - val_department_output_loss: 1.9505 - val_loss: 2.7233\n",
            "Epoch 71/100\n",
            "\u001b[1m35/35\u001b[0m \u001b[32m━━━━━━━━━━━━━━━━━━━━\u001b[0m\u001b[37m\u001b[0m \u001b[1m0s\u001b[0m 3ms/step - attrition_output_accuracy: 0.9930 - attrition_output_loss: 0.0282 - department_output_accuracy: 0.9802 - department_output_loss: 0.1150 - loss: 0.1433 - val_attrition_output_accuracy: 0.8261 - val_attrition_output_loss: 0.7848 - val_department_output_accuracy: 0.4837 - val_department_output_loss: 1.8900 - val_loss: 2.6573\n",
            "Epoch 72/100\n",
            "\u001b[1m35/35\u001b[0m \u001b[32m━━━━━━━━━━━━━━━━━━━━\u001b[0m\u001b[37m\u001b[0m \u001b[1m0s\u001b[0m 3ms/step - attrition_output_accuracy: 0.9941 - attrition_output_loss: 0.0328 - department_output_accuracy: 0.9820 - department_output_loss: 0.1061 - loss: 0.1388 - val_attrition_output_accuracy: 0.8152 - val_attrition_output_loss: 0.8133 - val_department_output_accuracy: 0.5027 - val_department_output_loss: 1.9017 - val_loss: 2.7042\n",
            "Epoch 73/100\n",
            "\u001b[1m35/35\u001b[0m \u001b[32m━━━━━━━━━━━━━━━━━━━━\u001b[0m\u001b[37m\u001b[0m \u001b[1m0s\u001b[0m 3ms/step - attrition_output_accuracy: 0.9967 - attrition_output_loss: 0.0276 - department_output_accuracy: 0.9886 - department_output_loss: 0.0907 - loss: 0.1182 - val_attrition_output_accuracy: 0.8315 - val_attrition_output_loss: 0.8110 - val_department_output_accuracy: 0.5408 - val_department_output_loss: 1.9882 - val_loss: 2.7938\n",
            "Epoch 74/100\n",
            "\u001b[1m35/35\u001b[0m \u001b[32m━━━━━━━━━━━━━━━━━━━━\u001b[0m\u001b[37m\u001b[0m \u001b[1m0s\u001b[0m 4ms/step - attrition_output_accuracy: 0.9954 - attrition_output_loss: 0.0350 - department_output_accuracy: 0.9880 - department_output_loss: 0.0902 - loss: 0.1252 - val_attrition_output_accuracy: 0.8451 - val_attrition_output_loss: 0.8118 - val_department_output_accuracy: 0.5435 - val_department_output_loss: 2.0117 - val_loss: 2.8069\n",
            "Epoch 75/100\n",
            "\u001b[1m35/35\u001b[0m \u001b[32m━━━━━━━━━━━━━━━━━━━━\u001b[0m\u001b[37m\u001b[0m \u001b[1m0s\u001b[0m 3ms/step - attrition_output_accuracy: 0.9974 - attrition_output_loss: 0.0233 - department_output_accuracy: 0.9881 - department_output_loss: 0.0921 - loss: 0.1153 - val_attrition_output_accuracy: 0.8261 - val_attrition_output_loss: 0.8338 - val_department_output_accuracy: 0.5353 - val_department_output_loss: 2.0073 - val_loss: 2.8236\n",
            "Epoch 76/100\n",
            "\u001b[1m35/35\u001b[0m \u001b[32m━━━━━━━━━━━━━━━━━━━━\u001b[0m\u001b[37m\u001b[0m \u001b[1m0s\u001b[0m 3ms/step - attrition_output_accuracy: 0.9978 - attrition_output_loss: 0.0223 - department_output_accuracy: 0.9789 - department_output_loss: 0.0956 - loss: 0.1180 - val_attrition_output_accuracy: 0.8288 - val_attrition_output_loss: 0.8420 - val_department_output_accuracy: 0.5625 - val_department_output_loss: 2.0922 - val_loss: 2.9196\n",
            "Epoch 77/100\n",
            "\u001b[1m35/35\u001b[0m \u001b[32m━━━━━━━━━━━━━━━━━━━━\u001b[0m\u001b[37m\u001b[0m \u001b[1m0s\u001b[0m 3ms/step - attrition_output_accuracy: 0.9963 - attrition_output_loss: 0.0179 - department_output_accuracy: 0.9800 - department_output_loss: 0.0837 - loss: 0.1015 - val_attrition_output_accuracy: 0.8261 - val_attrition_output_loss: 0.8585 - val_department_output_accuracy: 0.5353 - val_department_output_loss: 2.1058 - val_loss: 2.9456\n",
            "Epoch 78/100\n",
            "\u001b[1m35/35\u001b[0m \u001b[32m━━━━━━━━━━━━━━━━━━━━\u001b[0m\u001b[37m\u001b[0m \u001b[1m0s\u001b[0m 3ms/step - attrition_output_accuracy: 0.9982 - attrition_output_loss: 0.0193 - department_output_accuracy: 0.9784 - department_output_loss: 0.0973 - loss: 0.1166 - val_attrition_output_accuracy: 0.8397 - val_attrition_output_loss: 0.8557 - val_department_output_accuracy: 0.5516 - val_department_output_loss: 2.1162 - val_loss: 2.9644\n",
            "Epoch 79/100\n",
            "\u001b[1m35/35\u001b[0m \u001b[32m━━━━━━━━━━━━━━━━━━━━\u001b[0m\u001b[37m\u001b[0m \u001b[1m0s\u001b[0m 3ms/step - attrition_output_accuracy: 0.9974 - attrition_output_loss: 0.0197 - department_output_accuracy: 0.9945 - department_output_loss: 0.0785 - loss: 0.0982 - val_attrition_output_accuracy: 0.8288 - val_attrition_output_loss: 0.8659 - val_department_output_accuracy: 0.5190 - val_department_output_loss: 2.2050 - val_loss: 3.0611\n",
            "Epoch 80/100\n",
            "\u001b[1m35/35\u001b[0m \u001b[32m━━━━━━━━━━━━━━━━━━━━\u001b[0m\u001b[37m\u001b[0m \u001b[1m0s\u001b[0m 3ms/step - attrition_output_accuracy: 0.9981 - attrition_output_loss: 0.0172 - department_output_accuracy: 0.9925 - department_output_loss: 0.0664 - loss: 0.0837 - val_attrition_output_accuracy: 0.8207 - val_attrition_output_loss: 0.8943 - val_department_output_accuracy: 0.5082 - val_department_output_loss: 2.2066 - val_loss: 3.1047\n",
            "Epoch 81/100\n",
            "\u001b[1m35/35\u001b[0m \u001b[32m━━━━━━━━━━━━━━━━━━━━\u001b[0m\u001b[37m\u001b[0m \u001b[1m0s\u001b[0m 3ms/step - attrition_output_accuracy: 0.9970 - attrition_output_loss: 0.0180 - department_output_accuracy: 0.9777 - department_output_loss: 0.0886 - loss: 0.1066 - val_attrition_output_accuracy: 0.8397 - val_attrition_output_loss: 0.8944 - val_department_output_accuracy: 0.5109 - val_department_output_loss: 2.2859 - val_loss: 3.1764\n",
            "Epoch 82/100\n",
            "\u001b[1m35/35\u001b[0m \u001b[32m━━━━━━━━━━━━━━━━━━━━\u001b[0m\u001b[37m\u001b[0m \u001b[1m0s\u001b[0m 4ms/step - attrition_output_accuracy: 0.9979 - attrition_output_loss: 0.0161 - department_output_accuracy: 0.9864 - department_output_loss: 0.0803 - loss: 0.0965 - val_attrition_output_accuracy: 0.8478 - val_attrition_output_loss: 0.8879 - val_department_output_accuracy: 0.5217 - val_department_output_loss: 2.2744 - val_loss: 3.1443\n",
            "Epoch 83/100\n",
            "\u001b[1m35/35\u001b[0m \u001b[32m━━━━━━━━━━━━━━━━━━━━\u001b[0m\u001b[37m\u001b[0m \u001b[1m0s\u001b[0m 3ms/step - attrition_output_accuracy: 0.9947 - attrition_output_loss: 0.0189 - department_output_accuracy: 0.9950 - department_output_loss: 0.0581 - loss: 0.0771 - val_attrition_output_accuracy: 0.8261 - val_attrition_output_loss: 0.8953 - val_department_output_accuracy: 0.5380 - val_department_output_loss: 2.3542 - val_loss: 3.2457\n",
            "Epoch 84/100\n",
            "\u001b[1m35/35\u001b[0m \u001b[32m━━━━━━━━━━━━━━━━━━━━\u001b[0m\u001b[37m\u001b[0m \u001b[1m0s\u001b[0m 3ms/step - attrition_output_accuracy: 0.9984 - attrition_output_loss: 0.0140 - department_output_accuracy: 0.9956 - department_output_loss: 0.0560 - loss: 0.0699 - val_attrition_output_accuracy: 0.8179 - val_attrition_output_loss: 0.9394 - val_department_output_accuracy: 0.5408 - val_department_output_loss: 2.2765 - val_loss: 3.2120\n",
            "Epoch 85/100\n",
            "\u001b[1m35/35\u001b[0m \u001b[32m━━━━━━━━━━━━━━━━━━━━\u001b[0m\u001b[37m\u001b[0m \u001b[1m0s\u001b[0m 3ms/step - attrition_output_accuracy: 0.9977 - attrition_output_loss: 0.0197 - department_output_accuracy: 0.9935 - department_output_loss: 0.0638 - loss: 0.0834 - val_attrition_output_accuracy: 0.8451 - val_attrition_output_loss: 0.9195 - val_department_output_accuracy: 0.5380 - val_department_output_loss: 2.3084 - val_loss: 3.2080\n",
            "Epoch 86/100\n",
            "\u001b[1m35/35\u001b[0m \u001b[32m━━━━━━━━━━━━━━━━━━━━\u001b[0m\u001b[37m\u001b[0m \u001b[1m0s\u001b[0m 3ms/step - attrition_output_accuracy: 0.9973 - attrition_output_loss: 0.0158 - department_output_accuracy: 0.9902 - department_output_loss: 0.0624 - loss: 0.0782 - val_attrition_output_accuracy: 0.8451 - val_attrition_output_loss: 0.9414 - val_department_output_accuracy: 0.5272 - val_department_output_loss: 2.3597 - val_loss: 3.2891\n",
            "Epoch 87/100\n",
            "\u001b[1m35/35\u001b[0m \u001b[32m━━━━━━━━━━━━━━━━━━━━\u001b[0m\u001b[37m\u001b[0m \u001b[1m0s\u001b[0m 3ms/step - attrition_output_accuracy: 0.9988 - attrition_output_loss: 0.0119 - department_output_accuracy: 0.9918 - department_output_loss: 0.0563 - loss: 0.0682 - val_attrition_output_accuracy: 0.8424 - val_attrition_output_loss: 0.9360 - val_department_output_accuracy: 0.5299 - val_department_output_loss: 2.3609 - val_loss: 3.2780\n",
            "Epoch 88/100\n",
            "\u001b[1m35/35\u001b[0m \u001b[32m━━━━━━━━━━━━━━━━━━━━\u001b[0m\u001b[37m\u001b[0m \u001b[1m0s\u001b[0m 3ms/step - attrition_output_accuracy: 0.9987 - attrition_output_loss: 0.0105 - department_output_accuracy: 0.9954 - department_output_loss: 0.0553 - loss: 0.0658 - val_attrition_output_accuracy: 0.8152 - val_attrition_output_loss: 0.9659 - val_department_output_accuracy: 0.5353 - val_department_output_loss: 2.4286 - val_loss: 3.3845\n",
            "Epoch 89/100\n",
            "\u001b[1m35/35\u001b[0m \u001b[32m━━━━━━━━━━━━━━━━━━━━\u001b[0m\u001b[37m\u001b[0m \u001b[1m0s\u001b[0m 4ms/step - attrition_output_accuracy: 0.9964 - attrition_output_loss: 0.0186 - department_output_accuracy: 0.9944 - department_output_loss: 0.0500 - loss: 0.0687 - val_attrition_output_accuracy: 0.8478 - val_attrition_output_loss: 0.9455 - val_department_output_accuracy: 0.5217 - val_department_output_loss: 2.5261 - val_loss: 3.4602\n",
            "Epoch 90/100\n",
            "\u001b[1m35/35\u001b[0m \u001b[32m━━━━━━━━━━━━━━━━━━━━\u001b[0m\u001b[37m\u001b[0m \u001b[1m0s\u001b[0m 4ms/step - attrition_output_accuracy: 0.9860 - attrition_output_loss: 0.0373 - department_output_accuracy: 0.9905 - department_output_loss: 0.0588 - loss: 0.0962 - val_attrition_output_accuracy: 0.8397 - val_attrition_output_loss: 0.9403 - val_department_output_accuracy: 0.5163 - val_department_output_loss: 2.4576 - val_loss: 3.3817\n",
            "Epoch 91/100\n",
            "\u001b[1m35/35\u001b[0m \u001b[32m━━━━━━━━━━━━━━━━━━━━\u001b[0m\u001b[37m\u001b[0m \u001b[1m0s\u001b[0m 3ms/step - attrition_output_accuracy: 0.9986 - attrition_output_loss: 0.0137 - department_output_accuracy: 0.9930 - department_output_loss: 0.0509 - loss: 0.0645 - val_attrition_output_accuracy: 0.8315 - val_attrition_output_loss: 0.9854 - val_department_output_accuracy: 0.5408 - val_department_output_loss: 2.4742 - val_loss: 3.4514\n",
            "Epoch 92/100\n",
            "\u001b[1m35/35\u001b[0m \u001b[32m━━━━━━━━━━━━━━━━━━━━\u001b[0m\u001b[37m\u001b[0m \u001b[1m0s\u001b[0m 3ms/step - attrition_output_accuracy: 0.9918 - attrition_output_loss: 0.0280 - department_output_accuracy: 0.9942 - department_output_loss: 0.0461 - loss: 0.0741 - val_attrition_output_accuracy: 0.8152 - val_attrition_output_loss: 1.0239 - val_department_output_accuracy: 0.4891 - val_department_output_loss: 2.5448 - val_loss: 3.5441\n",
            "Epoch 93/100\n",
            "\u001b[1m35/35\u001b[0m \u001b[32m━━━━━━━━━━━━━━━━━━━━\u001b[0m\u001b[37m\u001b[0m \u001b[1m0s\u001b[0m 3ms/step - attrition_output_accuracy: 0.9903 - attrition_output_loss: 0.0348 - department_output_accuracy: 0.9851 - department_output_loss: 0.0680 - loss: 0.1026 - val_attrition_output_accuracy: 0.8125 - val_attrition_output_loss: 1.0314 - val_department_output_accuracy: 0.5625 - val_department_output_loss: 2.5237 - val_loss: 3.5404\n",
            "Epoch 94/100\n",
            "\u001b[1m35/35\u001b[0m \u001b[32m━━━━━━━━━━━━━━━━━━━━\u001b[0m\u001b[37m\u001b[0m \u001b[1m0s\u001b[0m 3ms/step - attrition_output_accuracy: 0.9940 - attrition_output_loss: 0.0279 - department_output_accuracy: 0.9870 - department_output_loss: 0.0710 - loss: 0.0990 - val_attrition_output_accuracy: 0.8125 - val_attrition_output_loss: 0.9685 - val_department_output_accuracy: 0.5245 - val_department_output_loss: 2.5386 - val_loss: 3.4920\n",
            "Epoch 95/100\n",
            "\u001b[1m35/35\u001b[0m \u001b[32m━━━━━━━━━━━━━━━━━━━━\u001b[0m\u001b[37m\u001b[0m \u001b[1m0s\u001b[0m 3ms/step - attrition_output_accuracy: 0.9981 - attrition_output_loss: 0.0149 - department_output_accuracy: 0.9891 - department_output_loss: 0.0559 - loss: 0.0708 - val_attrition_output_accuracy: 0.8342 - val_attrition_output_loss: 0.9752 - val_department_output_accuracy: 0.5435 - val_department_output_loss: 2.6324 - val_loss: 3.5808\n",
            "Epoch 96/100\n",
            "\u001b[1m35/35\u001b[0m \u001b[32m━━━━━━━━━━━━━━━━━━━━\u001b[0m\u001b[37m\u001b[0m \u001b[1m0s\u001b[0m 4ms/step - attrition_output_accuracy: 0.9993 - attrition_output_loss: 0.0099 - department_output_accuracy: 0.9953 - department_output_loss: 0.0424 - loss: 0.0523 - val_attrition_output_accuracy: 0.8234 - val_attrition_output_loss: 1.0273 - val_department_output_accuracy: 0.5353 - val_department_output_loss: 2.6024 - val_loss: 3.6144\n",
            "Epoch 97/100\n",
            "\u001b[1m35/35\u001b[0m \u001b[32m━━━━━━━━━━━━━━━━━━━━\u001b[0m\u001b[37m\u001b[0m \u001b[1m0s\u001b[0m 3ms/step - attrition_output_accuracy: 0.9986 - attrition_output_loss: 0.0083 - department_output_accuracy: 0.9921 - department_output_loss: 0.0419 - loss: 0.0502 - val_attrition_output_accuracy: 0.8016 - val_attrition_output_loss: 1.0440 - val_department_output_accuracy: 0.5272 - val_department_output_loss: 2.6049 - val_loss: 3.6211\n",
            "Epoch 98/100\n",
            "\u001b[1m35/35\u001b[0m \u001b[32m━━━━━━━━━━━━━━━━━━━━\u001b[0m\u001b[37m\u001b[0m \u001b[1m0s\u001b[0m 3ms/step - attrition_output_accuracy: 1.0000 - attrition_output_loss: 0.0088 - department_output_accuracy: 0.9960 - department_output_loss: 0.0408 - loss: 0.0497 - val_attrition_output_accuracy: 0.8533 - val_attrition_output_loss: 1.0008 - val_department_output_accuracy: 0.5245 - val_department_output_loss: 2.6354 - val_loss: 3.6197\n",
            "Epoch 99/100\n",
            "\u001b[1m35/35\u001b[0m \u001b[32m━━━━━━━━━━━━━━━━━━━━\u001b[0m\u001b[37m\u001b[0m \u001b[1m0s\u001b[0m 3ms/step - attrition_output_accuracy: 0.9982 - attrition_output_loss: 0.0078 - department_output_accuracy: 0.9939 - department_output_loss: 0.0368 - loss: 0.0447 - val_attrition_output_accuracy: 0.8315 - val_attrition_output_loss: 1.0230 - val_department_output_accuracy: 0.5109 - val_department_output_loss: 2.6897 - val_loss: 3.6872\n",
            "Epoch 100/100\n",
            "\u001b[1m35/35\u001b[0m \u001b[32m━━━━━━━━━━━━━━━━━━━━\u001b[0m\u001b[37m\u001b[0m \u001b[1m0s\u001b[0m 3ms/step - attrition_output_accuracy: 0.9973 - attrition_output_loss: 0.0110 - department_output_accuracy: 0.9972 - department_output_loss: 0.0325 - loss: 0.0436 - val_attrition_output_accuracy: 0.8451 - val_attrition_output_loss: 1.0425 - val_department_output_accuracy: 0.5109 - val_department_output_loss: 2.7233 - val_loss: 3.7483\n"
          ]
        }
      ],
      "source": [
        "# Train the model\n",
        "history = model.fit(X_train_scaled, {'department_output': department_train_encoded, 'attrition_output': attrition_train_encoded},\n",
        "    epochs=100,batch_size=32,\n",
        "    validation_data=(X_test_scaled, {'department_output': department_test_encoded, 'attrition_output': attrition_test_encoded})\n",
        ")                                                                                                                                                                                       "
      ]
    },
    {
      "cell_type": "code",
      "execution_count": 49,
      "metadata": {
        "colab": {
          "base_uri": "https://localhost:8080/"
        },
        "id": "VsMoaQlgGc3U",
        "outputId": "1bd4e601-e964-4abc-ad83-aeecf6b696be"
      },
      "outputs": [
        {
          "name": "stdout",
          "output_type": "stream",
          "text": [
            "\u001b[1m12/12\u001b[0m \u001b[32m━━━━━━━━━━━━━━━━━━━━\u001b[0m\u001b[37m\u001b[0m \u001b[1m0s\u001b[0m 3ms/step - attrition_output_accuracy: 0.8314 - attrition_output_loss: 1.1639 - department_output_accuracy: 0.5094 - department_output_loss: 2.7672 - loss: 3.9284 \n",
            "\n",
            "Evaluation Results:\n",
            "Total Loss: 3.7482664585113525\n",
            "Department Loss: 2.7233238220214844, Department Accuracy: 0.845108687877655\n",
            "Attrition Loss: 1.0425432920455933, Attrition Accuracy: 0.510869562625885\n"
          ]
        }
      ],
      "source": [
        "# Evaluate the model with the testing data\n",
        "# Evaluate the model\n",
        "evaluation_results = model.evaluate(\n",
        "    X_test_scaled, \n",
        "    {'department_output': department_test_encoded, 'attrition_output': attrition_test_encoded}\n",
        ")\n",
        "\n",
        "# Display the results\n",
        "print(\"\\nEvaluation Results:\")\n",
        "print(f\"Total Loss: {evaluation_results[0]}\")\n",
        "print(f\"Department Loss: {evaluation_results[1]}, Department Accuracy: {evaluation_results[3]}\")\n",
        "print(f\"Attrition Loss: {evaluation_results[2]}, Attrition Accuracy: {evaluation_results[4]}\")\n"
      ]
    },
    {
      "cell_type": "code",
      "execution_count": 50,
      "metadata": {
        "colab": {
          "base_uri": "https://localhost:8080/"
        },
        "id": "ZlCtlHi0Vt54",
        "outputId": "bc21ef3e-80c2-4b38-9c29-79515bc23dec"
      },
      "outputs": [
        {
          "name": "stdout",
          "output_type": "stream",
          "text": [
            "Department Accuracy: 0.85\n",
            "Attrition Accuracy: 0.51\n"
          ]
        }
      ],
      "source": [
        "# Print the accuracy for both department and attrition\n",
        "# Evaluate the model on the test data\n",
        "evaluation_results = model.evaluate(\n",
        "    X_test_scaled, \n",
        "    {'department_output': department_test_encoded, 'attrition_output': attrition_test_encoded},\n",
        "    verbose=0  # Suppress detailed output\n",
        ")\n",
        "\n",
        "# Extract and print the accuracies\n",
        "department_accuracy = evaluation_results[3]  # Accuracy for department_output\n",
        "attrition_accuracy = evaluation_results[4]   # Accuracy for attrition_output\n",
        "\n",
        "print(f\"Department Accuracy: {department_accuracy:.2f}\")\n",
        "print(f\"Attrition Accuracy: {attrition_accuracy:.2f}\")\n"
      ]
    },
    {
      "cell_type": "markdown",
      "metadata": {
        "id": "eGSyfsZfWOQM"
      },
      "source": [
        "# Summary\n",
        "\n",
        "In the provided space below, briefly answer the following questions.\n",
        "\n",
        "1. Is accuracy the best metric to use on this data? Why or why not?\n",
        "\n",
        "2. What activation functions did you choose for your output layers, and why?\n",
        "\n",
        "3. Can you name a few ways that this model might be improved?"
      ]
    },
    {
      "cell_type": "markdown",
      "metadata": {
        "id": "pi9SLpFnWvbF"
      },
      "source": [
        "YOUR ANSWERS HERE\n",
        "\n",
        "1. \n",
        "\n",
        "\n",
        "Accuracy can be a useful metric for evaluating this model, but it may not always be the best choice depending on the dataset.\n",
        "\n",
        "If the dataset is balanced, meaning there are similar proportions of each class, accuracy provides a good overall measure of performance. However, if the dataset is imbalanced, such as significantly more employees in one department or a skewed attrition rate, accuracy can be misleading. In such cases, other metrics like precision, recall, and F1-score offer better insights.\n",
        "\n",
        "For the attrition prediction, recall is particularly important if the goal is to identify employees likely to leave. For the department prediction, precision may be more relevant to ensure the correct department is recommended with high confidence.\n",
        "\n",
        "2. \n",
        "\n",
        "For the output layers, the softmax activation function was chosen for both branches.\n",
        "\n",
        "For the department output, softmax is ideal because it is a multi-class classification problem with three classes. Softmax ensures that the model outputs probabilities for each class, with the sum of all probabilities equal to 1, making it easy to identify the most likely department.\n",
        "\n",
        "For the attrition output, softmax was also used, but with two neurons, as it is a binary classification problem. Although a single neuron with a sigmoid activation could also handle this task, softmax allows the model to output probabilities for both classes simultaneously, which can be useful for certain applications.\n",
        "\n",
        "3. \n",
        "\n",
        "There are several ways to improve this model. \n",
        "\n",
        "First, hyperparameter tuning can be performed to optimize factors like learning rate, the number of neurons, or the number of layers to better balance underfitting and overfitting. Additionally, regularization techniques, such as Dropout or L2 regularization, can be added to prevent overfitting and improve generalization. Another potential improvement is feature engineering, which involves creating new, meaningful features or selecting the most relevant ones to enhance the model's predictive power.\n",
        "\n",
        "If the dataset is imbalanced, techniques like oversampling, undersampling, or using class weights can ensure the model pays appropriate attention to all classes.\n",
        "\n",
        "Lastly, exploring advanced architectures, such as ensemble models or transfer learning, and evaluating performance using metrics like precision, recall, and F1-score could further refine the model’s effectiveness."
      ]
    },
    {
      "cell_type": "markdown",
      "metadata": {},
      "source": []
    }
  ],
  "metadata": {
    "colab": {
      "provenance": []
    },
    "kernelspec": {
      "display_name": "dev",
      "language": "python",
      "name": "python3"
    },
    "language_info": {
      "codemirror_mode": {
        "name": "ipython",
        "version": 3
      },
      "file_extension": ".py",
      "mimetype": "text/x-python",
      "name": "python",
      "nbconvert_exporter": "python",
      "pygments_lexer": "ipython3",
      "version": "3.12.4"
    }
  },
  "nbformat": 4,
  "nbformat_minor": 0
}
